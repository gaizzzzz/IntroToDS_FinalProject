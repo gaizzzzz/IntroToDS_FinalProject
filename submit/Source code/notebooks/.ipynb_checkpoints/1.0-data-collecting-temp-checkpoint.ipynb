{
 "cells": [
  {
   "cell_type": "markdown",
   "metadata": {},
   "source": [
    "<div style=\"text-align: center; background-color: #0A6EBD; font-family: 'Trebuchet MS', Arial, sans-serif; color: white; padding: 20px; font-size: 40px; font-weight: bold; border-radius: 0 0 0 0; box-shadow: 0px 6px 8px rgba(0, 0, 0, 0.2);\">\n",
    "  Final Project - Programming for Data Science\n",
    "    <div style=\"text-align: center; background-color: #0A6EBD; font-family: 'Trebuchet MS', Arial, sans-serif; color: white; padding: 20px; font-size: 40px; font-weight: bold; border-radius: 0 0 0 0; box-shadow: 0px 6px 8px rgba(0, 0, 0, 0.2);\">\n",
    "    @ FIT-HCMUS, VNU-HCM 📌\n",
    "</div>"
   ]
  },
  {
   "cell_type": "markdown",
   "metadata": {},
   "source": [
    "<div style=\"text-align: center; background-color: #5A96E3; font-family: 'Trebuchet MS', Arial, sans-serif; color: white; padding: 20px; font-size: 40px; font-weight: bold; border-radius: 0 0 0 0; box-shadow: 0px 6px 8px rgba(0, 0, 0, 0.2);\">\n",
    "  Stage 01 - Data collecting 📌\n",
    "</div>"
   ]
  },
  {
   "cell_type": "markdown",
   "metadata": {},
   "source": [
    "# Link Kaggle\n",
    "https://www.kaggle.com/datasets/danagerous/sleep-data?select=sleepdata_2.csv \n"
   ]
  },
  {
   "cell_type": "markdown",
   "metadata": {},
   "source": [
    "# About dataset\n",
    "\n",
    "## Context\n",
    "Sleep data collected via the Sleep Cycle iOS app.\n",
    "\n",
    "## Content\n",
    "The data was acquired between 2014-2018 and collected through the Sleep Cycle app from Northcube on iOS.\n",
    "\n",
    "New dataset uploaded April 2022 from the same app and vendor. Continuation of the data from 2018 to 2022.\n",
    "\n",
    "## Acknowledgements\n",
    "I would like to acknowledge my comfortable bed and pillow for making this happen.\n",
    "\n",
    "## Inspiration\n",
    "Just wanted to look at data I collected vs. data collected by others. Not sure what I'm going to do with this data yet or how I want to view it as I am new to data science and machine learning.\n",
    "\n",
    "## My Data Used For Research Project\n",
    "\n",
    "[From 887 days of sleep data to personalized suggestion](https://www.linkedin.com/pulse/from-887-days-sleep-data-personalized-suggestion-xiao-yang-ph-d-/?published=t&trackingId=9UK0bpgeSpaVQ3iu96iAAw%3D%3D)"
   ]
  },
  {
   "cell_type": "markdown",
   "metadata": {},
   "source": [
    "# License\n",
    "https://creativecommons.org/licenses/by-nc-sa/4.0/"
   ]
  },
  {
   "cell_type": "markdown",
   "metadata": {},
   "source": [
    "# Other Information\n",
    "- Usability: **7.65**\n",
    "- There are 2 files .csv in the dataset.\n",
    "    - `sleepdata.csv`: 887 rows and 8 columns\n",
    "    - `sleepdata_2.csv`: 921 rows and 21 columns\n",
    "- We decide to crawl file `sleepdata_2.csv` for our data project."
   ]
  }
 ],
 "metadata": {
  "kernelspec": {
   "display_name": "Python 3 (ipykernel)",
   "language": "python",
   "name": "python3"
  },
  "language_info": {
   "codemirror_mode": {
    "name": "ipython",
    "version": 3
   },
   "file_extension": ".py",
   "mimetype": "text/x-python",
   "name": "python",
   "nbconvert_exporter": "python",
   "pygments_lexer": "ipython3",
   "version": "3.10.8"
  }
 },
 "nbformat": 4,
 "nbformat_minor": 4
}
