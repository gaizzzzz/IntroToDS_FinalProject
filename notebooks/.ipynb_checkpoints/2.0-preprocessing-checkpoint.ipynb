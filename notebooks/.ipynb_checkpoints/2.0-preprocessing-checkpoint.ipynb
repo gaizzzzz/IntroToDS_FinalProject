{
 "cells": [
  {
   "cell_type": "code",
   "execution_count": 15,
   "id": "1632de02-511b-4221-bb50-0e518dabf26f",
   "metadata": {},
   "outputs": [],
   "source": [
    "import numpy as np\n",
    "import pandas as pd"
   ]
  },
  {
   "cell_type": "code",
   "execution_count": 16,
   "id": "8ebc9495-1565-42b0-80f4-a3c4bdd6bbb8",
   "metadata": {},
   "outputs": [
    {
     "data": {
      "text/html": [
       "<div>\n",
       "<style scoped>\n",
       "    .dataframe tbody tr th:only-of-type {\n",
       "        vertical-align: middle;\n",
       "    }\n",
       "\n",
       "    .dataframe tbody tr th {\n",
       "        vertical-align: top;\n",
       "    }\n",
       "\n",
       "    .dataframe thead th {\n",
       "        text-align: right;\n",
       "    }\n",
       "</style>\n",
       "<table border=\"1\" class=\"dataframe\">\n",
       "  <thead>\n",
       "    <tr style=\"text-align: right;\">\n",
       "      <th></th>\n",
       "      <th>Name</th>\n",
       "      <th>Released year</th>\n",
       "      <th>Genre</th>\n",
       "      <th>Director</th>\n",
       "      <th>Runtime</th>\n",
       "      <th>Score</th>\n",
       "      <th>Status</th>\n",
       "      <th>Language</th>\n",
       "      <th>Budget</th>\n",
       "      <th>Revenue</th>\n",
       "    </tr>\n",
       "  </thead>\n",
       "  <tbody>\n",
       "    <tr>\n",
       "      <th>0</th>\n",
       "      <td>Krampus</td>\n",
       "      <td>2015</td>\n",
       "      <td>['Horror', 'Comedy', 'Fantasy']</td>\n",
       "      <td>Michael Dougherty</td>\n",
       "      <td>1h 38m</td>\n",
       "      <td>62.0</td>\n",
       "      <td>Released</td>\n",
       "      <td>English</td>\n",
       "      <td>$15,000,000.00</td>\n",
       "      <td>$61,800,000.00</td>\n",
       "    </tr>\n",
       "    <tr>\n",
       "      <th>1</th>\n",
       "      <td>Killers of the Flower Moon</td>\n",
       "      <td>2023</td>\n",
       "      <td>['Crime', 'Drama', 'History']</td>\n",
       "      <td>Martin Scorsese</td>\n",
       "      <td>3h 26m</td>\n",
       "      <td>77.0</td>\n",
       "      <td>Released</td>\n",
       "      <td>English</td>\n",
       "      <td>$200,000,000.00</td>\n",
       "      <td>$155,500,000.00</td>\n",
       "    </tr>\n",
       "    <tr>\n",
       "      <th>2</th>\n",
       "      <td>Trolls Band Together</td>\n",
       "      <td>2023</td>\n",
       "      <td>['Animation', 'Family', 'Music', 'Fantasy', 'C...</td>\n",
       "      <td>Thomas Dam</td>\n",
       "      <td>1h 32m</td>\n",
       "      <td>72.0</td>\n",
       "      <td>Released</td>\n",
       "      <td>English</td>\n",
       "      <td>$95,000,000.00</td>\n",
       "      <td>$173,800,000.00</td>\n",
       "    </tr>\n",
       "    <tr>\n",
       "      <th>3</th>\n",
       "      <td>Shockwave: Countdown to Disaster</td>\n",
       "      <td>2017</td>\n",
       "      <td>['Action', 'Science Fiction', 'Adventure', 'Th...</td>\n",
       "      <td>Nick Lyon</td>\n",
       "      <td>1h 30m</td>\n",
       "      <td>56.0</td>\n",
       "      <td>Released</td>\n",
       "      <td>English</td>\n",
       "      <td>-</td>\n",
       "      <td>-</td>\n",
       "    </tr>\n",
       "    <tr>\n",
       "      <th>4</th>\n",
       "      <td>Good Boy</td>\n",
       "      <td>2022</td>\n",
       "      <td>['Horror', 'Thriller']</td>\n",
       "      <td>Viljar Bøe</td>\n",
       "      <td>1h 16m</td>\n",
       "      <td>68.0</td>\n",
       "      <td>Released</td>\n",
       "      <td>Norwegian</td>\n",
       "      <td>$8,500.00</td>\n",
       "      <td>-</td>\n",
       "    </tr>\n",
       "    <tr>\n",
       "      <th>...</th>\n",
       "      <td>...</td>\n",
       "      <td>...</td>\n",
       "      <td>...</td>\n",
       "      <td>...</td>\n",
       "      <td>...</td>\n",
       "      <td>...</td>\n",
       "      <td>...</td>\n",
       "      <td>...</td>\n",
       "      <td>...</td>\n",
       "      <td>...</td>\n",
       "    </tr>\n",
       "    <tr>\n",
       "      <th>4995</th>\n",
       "      <td>Mary Poppins Returns</td>\n",
       "      <td>2018</td>\n",
       "      <td>['Fantasy', 'Family', 'Comedy']</td>\n",
       "      <td>Rob Marshall</td>\n",
       "      <td>2h 11m</td>\n",
       "      <td>65.0</td>\n",
       "      <td>Released</td>\n",
       "      <td>English</td>\n",
       "      <td>$130,000,000.00</td>\n",
       "      <td>$348,807,090.00</td>\n",
       "    </tr>\n",
       "    <tr>\n",
       "      <th>4996</th>\n",
       "      <td>The Call of Sex</td>\n",
       "      <td>1977</td>\n",
       "      <td>['Thriller']</td>\n",
       "      <td>Tulio Demicheli</td>\n",
       "      <td>1h 28m</td>\n",
       "      <td>47.0</td>\n",
       "      <td>Released</td>\n",
       "      <td>Spanish; Castilian</td>\n",
       "      <td>-</td>\n",
       "      <td>-</td>\n",
       "    </tr>\n",
       "    <tr>\n",
       "      <th>4997</th>\n",
       "      <td>Showgirls</td>\n",
       "      <td>1995</td>\n",
       "      <td>['Drama']</td>\n",
       "      <td>Paul Verhoeven</td>\n",
       "      <td>2h 11m</td>\n",
       "      <td>55.0</td>\n",
       "      <td>Released</td>\n",
       "      <td>English</td>\n",
       "      <td>$45,000,000.00</td>\n",
       "      <td>$20,350,754.00</td>\n",
       "    </tr>\n",
       "    <tr>\n",
       "      <th>4998</th>\n",
       "      <td>Sister Act</td>\n",
       "      <td>1992</td>\n",
       "      <td>['Music', 'Comedy']</td>\n",
       "      <td>Emile Ardolino</td>\n",
       "      <td>1h 40m</td>\n",
       "      <td>68.0</td>\n",
       "      <td>Released</td>\n",
       "      <td>English</td>\n",
       "      <td>$31,000,000.00</td>\n",
       "      <td>$231,605,150.00</td>\n",
       "    </tr>\n",
       "    <tr>\n",
       "      <th>4999</th>\n",
       "      <td>Last Holiday</td>\n",
       "      <td>2006</td>\n",
       "      <td>['Adventure', 'Comedy', 'Drama']</td>\n",
       "      <td>Wayne Wang</td>\n",
       "      <td>1h 52m</td>\n",
       "      <td>71.0</td>\n",
       "      <td>Released</td>\n",
       "      <td>English</td>\n",
       "      <td>$45,000,000.00</td>\n",
       "      <td>$38,399,961.00</td>\n",
       "    </tr>\n",
       "  </tbody>\n",
       "</table>\n",
       "<p>5000 rows × 10 columns</p>\n",
       "</div>"
      ],
      "text/plain": [
       "                                  Name  Released year  \\\n",
       "0                              Krampus           2015   \n",
       "1           Killers of the Flower Moon           2023   \n",
       "2                 Trolls Band Together           2023   \n",
       "3     Shockwave: Countdown to Disaster           2017   \n",
       "4                             Good Boy           2022   \n",
       "...                                ...            ...   \n",
       "4995              Mary Poppins Returns           2018   \n",
       "4996                   The Call of Sex           1977   \n",
       "4997                         Showgirls           1995   \n",
       "4998                        Sister Act           1992   \n",
       "4999                      Last Holiday           2006   \n",
       "\n",
       "                                                  Genre           Director  \\\n",
       "0                       ['Horror', 'Comedy', 'Fantasy']  Michael Dougherty   \n",
       "1                         ['Crime', 'Drama', 'History']    Martin Scorsese   \n",
       "2     ['Animation', 'Family', 'Music', 'Fantasy', 'C...         Thomas Dam   \n",
       "3     ['Action', 'Science Fiction', 'Adventure', 'Th...          Nick Lyon   \n",
       "4                                ['Horror', 'Thriller']         Viljar Bøe   \n",
       "...                                                 ...                ...   \n",
       "4995                    ['Fantasy', 'Family', 'Comedy']       Rob Marshall   \n",
       "4996                                       ['Thriller']    Tulio Demicheli   \n",
       "4997                                          ['Drama']     Paul Verhoeven   \n",
       "4998                                ['Music', 'Comedy']     Emile Ardolino   \n",
       "4999                   ['Adventure', 'Comedy', 'Drama']         Wayne Wang   \n",
       "\n",
       "     Runtime  Score    Status            Language           Budget  \\\n",
       "0     1h 38m   62.0  Released             English   $15,000,000.00   \n",
       "1     3h 26m   77.0  Released             English  $200,000,000.00   \n",
       "2     1h 32m   72.0  Released             English   $95,000,000.00   \n",
       "3     1h 30m   56.0  Released             English                -   \n",
       "4     1h 16m   68.0  Released           Norwegian        $8,500.00   \n",
       "...      ...    ...       ...                 ...              ...   \n",
       "4995  2h 11m   65.0  Released             English  $130,000,000.00   \n",
       "4996  1h 28m   47.0  Released  Spanish; Castilian                -   \n",
       "4997  2h 11m   55.0  Released             English   $45,000,000.00   \n",
       "4998  1h 40m   68.0  Released             English   $31,000,000.00   \n",
       "4999  1h 52m   71.0  Released             English   $45,000,000.00   \n",
       "\n",
       "              Revenue  \n",
       "0      $61,800,000.00  \n",
       "1     $155,500,000.00  \n",
       "2     $173,800,000.00  \n",
       "3                   -  \n",
       "4                   -  \n",
       "...               ...  \n",
       "4995  $348,807,090.00  \n",
       "4996                -  \n",
       "4997   $20,350,754.00  \n",
       "4998  $231,605,150.00  \n",
       "4999   $38,399,961.00  \n",
       "\n",
       "[5000 rows x 10 columns]"
      ]
     },
     "execution_count": 16,
     "metadata": {},
     "output_type": "execute_result"
    }
   ],
   "source": [
    "movie_df=pd.read_csv('../data/movies.csv')\n",
    "movie_df"
   ]
  },
  {
   "cell_type": "code",
   "execution_count": 17,
   "id": "44dc3308-b71f-4418-88a9-f15114111949",
   "metadata": {},
   "outputs": [
    {
     "data": {
      "text/plain": [
       "(5000, 10)"
      ]
     },
     "execution_count": 17,
     "metadata": {},
     "output_type": "execute_result"
    }
   ],
   "source": [
    "n_rows=movie_df.shape[0]\n",
    "n_cols=movie_df.shape[1]\n",
    "n_rows, n_cols"
   ]
  },
  {
   "cell_type": "markdown",
   "id": "150f91ae-b5e6-43b3-b5b8-8a5994b7d1b4",
   "metadata": {},
   "source": [
    "#TODO: GIVE OBSERVATION ABOUT MEANING OF EACH ROWS, COLUMNS\n",
    "\n",
    "After finding meaning of each rows, each columns in the data, we check whether data have duplicate rows"
   ]
  },
  {
   "cell_type": "code",
   "execution_count": 18,
   "id": "99bb0730-9a6d-4585-bbf7-e840acc919e7",
   "metadata": {},
   "outputs": [
    {
     "data": {
      "text/plain": [
       "1"
      ]
     },
     "execution_count": 18,
     "metadata": {},
     "output_type": "execute_result"
    }
   ],
   "source": [
    "duplicated_rows = movie_df[movie_df.duplicated()]\n",
    "len(duplicated_rows)"
   ]
  },
  {
   "cell_type": "markdown",
   "id": "85efa2fb-93a1-4821-978f-a995a1344150",
   "metadata": {},
   "source": [
    "There is no duplicate row in data. We notice that there are many missing data (NaN) in the CSV file. We need to find how many percentage of missing data there are."
   ]
  },
  {
   "cell_type": "code",
   "execution_count": 19,
   "id": "6dd38925-4a1b-4cc9-9205-5ab75c36bc99",
   "metadata": {},
   "outputs": [
    {
     "name": "stdout",
     "output_type": "stream",
     "text": [
      "<class 'pandas.core.frame.DataFrame'>\n",
      "RangeIndex: 5000 entries, 0 to 4999\n",
      "Data columns (total 10 columns):\n",
      " #   Column         Non-Null Count  Dtype  \n",
      "---  ------         --------------  -----  \n",
      " 0   Name           5000 non-null   object \n",
      " 1   Released year  5000 non-null   int64  \n",
      " 2   Genre          5000 non-null   object \n",
      " 3   Director       5000 non-null   object \n",
      " 4   Runtime        5000 non-null   object \n",
      " 5   Score          5000 non-null   float64\n",
      " 6   Status         5000 non-null   object \n",
      " 7   Language       5000 non-null   object \n",
      " 8   Budget         5000 non-null   object \n",
      " 9   Revenue        5000 non-null   object \n",
      "dtypes: float64(1), int64(1), object(8)\n",
      "memory usage: 390.8+ KB\n"
     ]
    }
   ],
   "source": [
    "movie_df.info()"
   ]
  },
  {
   "cell_type": "markdown",
   "id": "c5d8fc55-e694-485d-bee9-844c0e64e16a",
   "metadata": {},
   "source": [
    "We can see that missing value is described as '[]'or '-' in data. Now we will caculate missing percent of each column"
   ]
  },
  {
   "cell_type": "code",
   "execution_count": 20,
   "id": "729af3b8-4b4a-4556-aa47-525374dc98cc",
   "metadata": {},
   "outputs": [
    {
     "data": {
      "text/plain": [
       "Name              0.00\n",
       "Released year     0.00\n",
       "Genre             0.16\n",
       "Director          0.14\n",
       "Runtime           0.74\n",
       "Score             0.00\n",
       "Status            0.00\n",
       "Language          0.00\n",
       "Budget           34.24\n",
       "Revenue          31.74\n",
       "dtype: float64"
      ]
     },
     "execution_count": 20,
     "metadata": {},
     "output_type": "execute_result"
    }
   ],
   "source": [
    "movie_df.replace(['[]', '-',' -'], np.nan, inplace=True)\n",
    "missing_values = movie_df.isnull().sum()\n",
    "# Calculate missing ratio for each column\n",
    "missing_ratio = (missing_values / len(movie_df)) * 100\n",
    "missing_ratio"
   ]
  },
  {
   "cell_type": "markdown",
   "id": "575eb69f-354e-4878-9ff8-2881d12440e2",
   "metadata": {},
   "source": [
    "From observing data and the result, we can see that there are no columns have >50% missing values, so we don't need to drop any column"
   ]
  },
  {
   "cell_type": "markdown",
   "id": "746747db-f9c5-40b9-9681-08ab1aa2ef76",
   "metadata": {},
   "source": [
    "## CATERGORICAL COLUMNS"
   ]
  },
  {
   "cell_type": "markdown",
   "id": "0745c014-615e-4b0e-a491-d821c329e8b0",
   "metadata": {},
   "source": [
    "We can see that `Released year` is a categorical column, so we need to change it to `str` instead of `int64`"
   ]
  },
  {
   "cell_type": "code",
   "execution_count": 21,
   "id": "e1e5df7a-9fdb-40fb-833a-9c592cde8417",
   "metadata": {},
   "outputs": [
    {
     "name": "stdout",
     "output_type": "stream",
     "text": [
      "<class 'pandas.core.frame.DataFrame'>\n",
      "RangeIndex: 5000 entries, 0 to 4999\n",
      "Data columns (total 10 columns):\n",
      " #   Column         Non-Null Count  Dtype  \n",
      "---  ------         --------------  -----  \n",
      " 0   Name           5000 non-null   object \n",
      " 1   Released year  5000 non-null   object \n",
      " 2   Genre          4992 non-null   object \n",
      " 3   Director       4993 non-null   object \n",
      " 4   Runtime        4963 non-null   object \n",
      " 5   Score          5000 non-null   float64\n",
      " 6   Status         5000 non-null   object \n",
      " 7   Language       5000 non-null   object \n",
      " 8   Budget         3288 non-null   object \n",
      " 9   Revenue        3413 non-null   object \n",
      "dtypes: float64(1), object(9)\n",
      "memory usage: 390.8+ KB\n"
     ]
    }
   ],
   "source": [
    "movie_df['Released year']=movie_df['Released year'].astype('str')\n",
    "movie_df.info()"
   ]
  },
  {
   "cell_type": "markdown",
   "id": "fb239198-df59-480b-b592-7bab0d107b55",
   "metadata": {},
   "source": [
    "We need to count how many value are there in `Genre`, `Status`, `Language` "
   ]
  },
  {
   "cell_type": "code",
   "execution_count": 22,
   "id": "c6e8798d-78b3-4432-ab66-ad86c9401d66",
   "metadata": {},
   "outputs": [
    {
     "data": {
      "text/html": [
       "<div>\n",
       "<style scoped>\n",
       "    .dataframe tbody tr th:only-of-type {\n",
       "        vertical-align: middle;\n",
       "    }\n",
       "\n",
       "    .dataframe tbody tr th {\n",
       "        vertical-align: top;\n",
       "    }\n",
       "\n",
       "    .dataframe thead th {\n",
       "        text-align: right;\n",
       "    }\n",
       "</style>\n",
       "<table border=\"1\" class=\"dataframe\">\n",
       "  <thead>\n",
       "    <tr style=\"text-align: right;\">\n",
       "      <th></th>\n",
       "      <th>Genre</th>\n",
       "      <th>Status</th>\n",
       "      <th>Language</th>\n",
       "    </tr>\n",
       "  </thead>\n",
       "  <tbody>\n",
       "    <tr>\n",
       "      <th>num_diff_vals</th>\n",
       "      <td>19</td>\n",
       "      <td>3</td>\n",
       "      <td>40</td>\n",
       "    </tr>\n",
       "    <tr>\n",
       "      <th>distribution</th>\n",
       "      <td>{''Drama'': 1718, ''Action'': 1587, ''Comedy''...</td>\n",
       "      <td>{'Released': 4986, 'Post Production': 10, 'In ...</td>\n",
       "      <td>{'English': 4174, 'Japanese': 280, 'French': 1...</td>\n",
       "    </tr>\n",
       "  </tbody>\n",
       "</table>\n",
       "</div>"
      ],
      "text/plain": [
       "                                                           Genre  \\\n",
       "num_diff_vals                                                 19   \n",
       "distribution   {''Drama'': 1718, ''Action'': 1587, ''Comedy''...   \n",
       "\n",
       "                                                          Status  \\\n",
       "num_diff_vals                                                  3   \n",
       "distribution   {'Released': 4986, 'Post Production': 10, 'In ...   \n",
       "\n",
       "                                                        Language  \n",
       "num_diff_vals                                                 40  \n",
       "distribution   {'English': 4174, 'Japanese': 280, 'French': 1...  "
      ]
     },
     "execution_count": 22,
     "metadata": {},
     "output_type": "execute_result"
    }
   ],
   "source": [
    "selected_cols_profile={}\n",
    "movie_df['Genre'] = movie_df['Genre'].str.replace('[', '').str.replace(']', '')\n",
    "count_genre = movie_df['Genre'].str.split(', ').explode().value_counts().to_dict()\n",
    "count_status = movie_df['Status'].value_counts().to_dict()\n",
    "count_language = movie_df['Language'].str.split('; ').explode().value_counts().to_dict()\n",
    "selected_cols_profile['Genre'] = {\"num_diff_vals\": len(count_genre), \"distribution\": count_genre}\n",
    "selected_cols_profile['Status'] = {\"num_diff_vals\": len(count_status), \"distribution\": count_status}\n",
    "selected_cols_profile['Language'] = {\"num_diff_vals\": len(count_language), \"distribution\": count_language}\n",
    "selected_cols_profile=pd.DataFrame(data=selected_cols_profile,index=[\"num_diff_vals\", \"distribution\"])\n",
    "selected_cols_profile"
   ]
  },
  {
   "cell_type": "markdown",
   "id": "9065f699-9d23-4938-affc-a54bbcde4897",
   "metadata": {},
   "source": [
    "Value of these columns seem normal"
   ]
  },
  {
   "cell_type": "markdown",
   "id": "2a84e7f1-9821-47db-bb4e-7f0c30b9d1b2",
   "metadata": {},
   "source": [
    "## NUMERIC COLUMNS"
   ]
  },
  {
   "cell_type": "code",
   "execution_count": 23,
   "id": "6b7f5f50-b75b-4d06-9daf-c7272cfab4b2",
   "metadata": {},
   "outputs": [],
   "source": [
    "def convert_runtime_to_float(runtime):\n",
    "    try:\n",
    "        # Split hours and minutes\n",
    "        hours, minutes = map(int, runtime.replace('h', '').replace('m', '').split())\n",
    "        return hours + round(minutes / 60,2)\n",
    "    except:\n",
    "        return None\n",
    "\n",
    "# Apply the conversion function to the 'Runtime' column\n",
    "movie_df['Runtime'] = movie_df['Runtime'].apply(convert_runtime_to_float)\n",
    "movie_df.rename(columns={'Runtime': 'Runtime (h)'}, inplace=True)"
   ]
  },
  {
   "cell_type": "markdown",
   "id": "685849de-6cf9-40ce-91a0-ebb5f2164571",
   "metadata": {},
   "source": [
    "Convert numeric columns `Budget` and `Revenue` from `object` to `float64`"
   ]
  },
  {
   "cell_type": "code",
   "execution_count": 24,
   "id": "624f563e-8a37-4a28-9b92-71f38a8089b0",
   "metadata": {},
   "outputs": [],
   "source": [
    "movie_df['Budget'] = movie_df['Budget'].replace('[\\$,]', '', regex=True).astype(float)\n",
    "movie_df['Revenue'] = movie_df['Revenue'].replace('[\\$,]', '', regex=True).astype(float)\n",
    "\n",
    "movie_df.rename(columns={'Budget': 'Budget ($)'}, inplace=True)\n",
    "movie_df.rename(columns={'Revenue': 'Revenue ($)'}, inplace=True)"
   ]
  },
  {
   "cell_type": "code",
   "execution_count": 25,
   "id": "21be2687-1248-49dc-ad83-2d54001af085",
   "metadata": {},
   "outputs": [
    {
     "name": "stdout",
     "output_type": "stream",
     "text": [
      "<class 'pandas.core.frame.DataFrame'>\n",
      "RangeIndex: 5000 entries, 0 to 4999\n",
      "Data columns (total 10 columns):\n",
      " #   Column         Non-Null Count  Dtype  \n",
      "---  ------         --------------  -----  \n",
      " 0   Name           5000 non-null   object \n",
      " 1   Released year  5000 non-null   object \n",
      " 2   Genre          4992 non-null   object \n",
      " 3   Director       4993 non-null   object \n",
      " 4   Runtime (h)    4741 non-null   float64\n",
      " 5   Score          5000 non-null   float64\n",
      " 6   Status         5000 non-null   object \n",
      " 7   Language       5000 non-null   object \n",
      " 8   Budget ($)     3288 non-null   float64\n",
      " 9   Revenue ($)    3413 non-null   float64\n",
      "dtypes: float64(4), object(6)\n",
      "memory usage: 390.8+ KB\n"
     ]
    }
   ],
   "source": [
    "movie_df.info()"
   ]
  },
  {
   "cell_type": "markdown",
   "id": "de4677db-ec60-4082-8a85-28cf17347a60",
   "metadata": {},
   "source": [
    "### Caculate quantile of numeric cols"
   ]
  },
  {
   "cell_type": "code",
   "execution_count": 26,
   "id": "85615ff8-5be9-4246-ae4e-7b3bc4e590f5",
   "metadata": {},
   "outputs": [
    {
     "data": {
      "text/html": [
       "<div>\n",
       "<style scoped>\n",
       "    .dataframe tbody tr th:only-of-type {\n",
       "        vertical-align: middle;\n",
       "    }\n",
       "\n",
       "    .dataframe tbody tr th {\n",
       "        vertical-align: top;\n",
       "    }\n",
       "\n",
       "    .dataframe thead th {\n",
       "        text-align: right;\n",
       "    }\n",
       "</style>\n",
       "<table border=\"1\" class=\"dataframe\">\n",
       "  <thead>\n",
       "    <tr style=\"text-align: right;\">\n",
       "      <th></th>\n",
       "      <th>Runtime (h)</th>\n",
       "      <th>Score</th>\n",
       "      <th>Budget ($)</th>\n",
       "      <th>Revenue ($)</th>\n",
       "    </tr>\n",
       "  </thead>\n",
       "  <tbody>\n",
       "    <tr>\n",
       "      <th>mean</th>\n",
       "      <td>1.788076</td>\n",
       "      <td>65.803000</td>\n",
       "      <td>4.781636e+07</td>\n",
       "      <td>1.510830e+08</td>\n",
       "    </tr>\n",
       "    <tr>\n",
       "      <th>std</th>\n",
       "      <td>0.354096</td>\n",
       "      <td>10.674164</td>\n",
       "      <td>5.370240e+07</td>\n",
       "      <td>2.336803e+08</td>\n",
       "    </tr>\n",
       "    <tr>\n",
       "      <th>min</th>\n",
       "      <td>1.020000</td>\n",
       "      <td>0.000000</td>\n",
       "      <td>1.000000e+00</td>\n",
       "      <td>1.000000e+01</td>\n",
       "    </tr>\n",
       "    <tr>\n",
       "      <th>25%</th>\n",
       "      <td>1.550000</td>\n",
       "      <td>61.000000</td>\n",
       "      <td>1.098775e+07</td>\n",
       "      <td>1.864457e+07</td>\n",
       "    </tr>\n",
       "    <tr>\n",
       "      <th>50%</th>\n",
       "      <td>1.720000</td>\n",
       "      <td>67.000000</td>\n",
       "      <td>3.000000e+07</td>\n",
       "      <td>6.840000e+07</td>\n",
       "    </tr>\n",
       "    <tr>\n",
       "      <th>75%</th>\n",
       "      <td>1.970000</td>\n",
       "      <td>72.000000</td>\n",
       "      <td>6.500000e+07</td>\n",
       "      <td>1.816748e+08</td>\n",
       "    </tr>\n",
       "    <tr>\n",
       "      <th>max</th>\n",
       "      <td>4.130000</td>\n",
       "      <td>100.000000</td>\n",
       "      <td>4.600000e+08</td>\n",
       "      <td>2.923706e+09</td>\n",
       "    </tr>\n",
       "  </tbody>\n",
       "</table>\n",
       "</div>"
      ],
      "text/plain": [
       "      Runtime (h)       Score    Budget ($)   Revenue ($)\n",
       "mean     1.788076   65.803000  4.781636e+07  1.510830e+08\n",
       "std      0.354096   10.674164  5.370240e+07  2.336803e+08\n",
       "min      1.020000    0.000000  1.000000e+00  1.000000e+01\n",
       "25%      1.550000   61.000000  1.098775e+07  1.864457e+07\n",
       "50%      1.720000   67.000000  3.000000e+07  6.840000e+07\n",
       "75%      1.970000   72.000000  6.500000e+07  1.816748e+08\n",
       "max      4.130000  100.000000  4.600000e+08  2.923706e+09"
      ]
     },
     "execution_count": 26,
     "metadata": {},
     "output_type": "execute_result"
    }
   ],
   "source": [
    "numeric_cols=['Runtime (h)','Score','Budget ($)','Revenue ($)']\n",
    "numeric_col_profile = movie_df[numeric_cols].describe()[1:]\n",
    "numeric_col_profile "
   ]
  },
  {
   "cell_type": "code",
   "execution_count": 27,
   "id": "aefdb9c8-9bda-47ff-bb01-c609558399c3",
   "metadata": {},
   "outputs": [
    {
     "data": {
      "text/html": [
       "<div>\n",
       "<style scoped>\n",
       "    .dataframe tbody tr th:only-of-type {\n",
       "        vertical-align: middle;\n",
       "    }\n",
       "\n",
       "    .dataframe tbody tr th {\n",
       "        vertical-align: top;\n",
       "    }\n",
       "\n",
       "    .dataframe thead th {\n",
       "        text-align: right;\n",
       "    }\n",
       "</style>\n",
       "<table border=\"1\" class=\"dataframe\">\n",
       "  <thead>\n",
       "    <tr style=\"text-align: right;\">\n",
       "      <th></th>\n",
       "      <th>Name</th>\n",
       "      <th>Released year</th>\n",
       "      <th>Genre</th>\n",
       "      <th>Director</th>\n",
       "      <th>Runtime (h)</th>\n",
       "      <th>Score</th>\n",
       "      <th>Status</th>\n",
       "      <th>Language</th>\n",
       "      <th>Budget ($)</th>\n",
       "      <th>Revenue ($)</th>\n",
       "    </tr>\n",
       "  </thead>\n",
       "  <tbody>\n",
       "    <tr>\n",
       "      <th>2178</th>\n",
       "      <td>Down</td>\n",
       "      <td>2019</td>\n",
       "      <td>'Horror', 'Drama', 'Thriller'</td>\n",
       "      <td>Daniel Stamm</td>\n",
       "      <td>1.37</td>\n",
       "      <td>68.0</td>\n",
       "      <td>Released</td>\n",
       "      <td>English</td>\n",
       "      <td>1.0</td>\n",
       "      <td>NaN</td>\n",
       "    </tr>\n",
       "  </tbody>\n",
       "</table>\n",
       "</div>"
      ],
      "text/plain": [
       "      Name Released year                          Genre      Director  \\\n",
       "2178  Down          2019  'Horror', 'Drama', 'Thriller'  Daniel Stamm   \n",
       "\n",
       "      Runtime (h)  Score    Status Language  Budget ($)  Revenue ($)  \n",
       "2178         1.37   68.0  Released  English         1.0          NaN  "
      ]
     },
     "execution_count": 27,
     "metadata": {},
     "output_type": "execute_result"
    }
   ],
   "source": [
    "movie_df[movie_df['Budget ($)']==1] ## check thử cho vui"
   ]
  },
  {
   "cell_type": "markdown",
   "id": "9ed08349-aabd-42e8-b31e-9acdedd7d557",
   "metadata": {},
   "source": [
    "SAVE TO NEW CSV FILE NAME `Processed.csv`"
   ]
  },
  {
   "cell_type": "code",
   "execution_count": 28,
   "id": "1b5a2bd2-f5da-406c-a82d-a3421fc19cf6",
   "metadata": {},
   "outputs": [],
   "source": [
    "movie_df.to_csv('../data/Processed.csv', index = False)"
   ]
  },
  {
   "cell_type": "code",
   "execution_count": null,
   "id": "cdb55afe-27e6-4f85-af30-beeac03502f7",
   "metadata": {},
   "outputs": [],
   "source": []
  }
 ],
 "metadata": {
  "kernelspec": {
   "display_name": "Python 3 (ipykernel)",
   "language": "python",
   "name": "python3"
  },
  "language_info": {
   "codemirror_mode": {
    "name": "ipython",
    "version": 3
   },
   "file_extension": ".py",
   "mimetype": "text/x-python",
   "name": "python",
   "nbconvert_exporter": "python",
   "pygments_lexer": "ipython3",
   "version": "3.10.9"
  }
 },
 "nbformat": 4,
 "nbformat_minor": 5
}
