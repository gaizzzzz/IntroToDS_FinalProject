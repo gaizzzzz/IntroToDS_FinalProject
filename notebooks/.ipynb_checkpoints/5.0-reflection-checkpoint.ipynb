{
 "cells": [
  {
   "cell_type": "markdown",
   "id": "93cee352-21c2-4449-a1d0-110cf575e2a7",
   "metadata": {},
   "source": [
    "# TỰ ĐÁNH GIÁ THÀNH VIÊN:"
   ]
  },
  {
   "cell_type": "markdown",
   "id": "52607ca3-4ac6-4c38-952f-a705233c0816",
   "metadata": {},
   "source": [
    "## Thành viên 1: Bùi Hồng Đăng (21120045)"
   ]
  },
  {
   "cell_type": "markdown",
   "id": "ff05639e-7962-4e18-acdc-0da8d28440ba",
   "metadata": {},
   "source": [
    "### <span style=\"color:green\"> Kiến thức học được: </span>"
   ]
  },
  {
   "cell_type": "markdown",
   "id": "feffa28c-06d8-4c48-9a47-d1e60b5d34ba",
   "metadata": {},
   "source": [
    "- Quy trình của 1 dự án Khoa học dữ liệu cơ bản.\n",
    "- Cách hoạt động của các mô hình học máy.\n",
    "- Kỹ năng làm việc nhóm.\n",
    "- Cách dùng các công cụ hỗ trợ quản lý như `Trello`, `GitHub` tốt hơn."
   ]
  },
  {
   "cell_type": "markdown",
   "id": "b3ed2418-cccf-4459-8b97-2df4b0d92086",
   "metadata": {},
   "source": [
    "### <span style=\"color:red\"> Khó khăn gặp phải: </span>"
   ]
  },
  {
   "cell_type": "markdown",
   "id": "43049602-6544-49e5-a25b-cc241bbe5346",
   "metadata": {},
   "source": [
    "- Chưa đủ kiến thức chuyên môn về các lĩnh vực ngoài.\n",
    "- Chưa hiểu rõ cụ thể thuật toán của các mô hình học máy.\n",
    "- Quá trình crawl dữ liệu không được quá nhiều đặc trưng (factors).\n",
    "- Chưa nghĩ ra được các câu hỏi mang tính chuyên môn cao để phân tích."
   ]
  },
  {
   "cell_type": "markdown",
   "id": "48a7589b-b6d9-4ae7-a886-2ec28672abf7",
   "metadata": {},
   "source": [
    "### <span style=\"color:blue\"> Nếu còn thời gian: </span>"
   ]
  },
  {
   "cell_type": "markdown",
   "id": "00665acc-5554-4fb0-a056-5354b9a9041f",
   "metadata": {},
   "source": [
    "- Học nhiều kiến thức chuyên môn hơn.\n",
    "- Tìm hiểu cụ thể các mô hình học máy nhằm đưa hiệu suất tốt nhất.\n",
    "- Triển khai mô hình vào thực tế."
   ]
  },
  {
   "cell_type": "markdown",
   "id": "d0fb3aa3-3f9b-42d2-8e8e-65dfb43d5750",
   "metadata": {},
   "source": [
    "## Thành viên 2: Nguyễn Tiến Nhật (21120108)"
   ]
  },
  {
   "cell_type": "markdown",
   "id": "1c35963d-76a1-4f9a-b4ae-d4b61eda0417",
   "metadata": {},
   "source": [
    "### <span style=\"color:green\"> Kiến thức học được: </span>"
   ]
  },
  {
   "cell_type": "markdown",
   "id": "a1d9fa69-bb2e-454e-85a8-992c78b40c69",
   "metadata": {},
   "source": [
    "- Học được cách sử dụng `GitHub`, `Trello`.\n",
    "- Tăng thêm hiểu biết về thuật toán ML.\n",
    "- Cách làm nhóm hiệu quả."
   ]
  },
  {
   "cell_type": "markdown",
   "id": "3f7850e0-77d2-46b0-9347-7a87bc87c671",
   "metadata": {},
   "source": [
    "### <span style=\"color:red\"> Khó khăn gặp phải: </span>"
   ]
  },
  {
   "cell_type": "markdown",
   "id": "02940a71-7727-4058-b378-a98e3d278bf1",
   "metadata": {},
   "source": [
    "- Thiếu kiến thức domain.\n",
    "- Hiểu và sử dụng thuật toán ML trong phase 2.\n",
    "- Khó khăn trong việc tìm kiếm câu hỏi thật sự ý nghĩa từ tập dữ liệu."
   ]
  },
  {
   "cell_type": "markdown",
   "id": "3be3faf1-ee7d-475c-8c2c-9141a1ed697b",
   "metadata": {},
   "source": [
    "### <span style=\"color:blue\"> Nếu còn thời gian: </span>"
   ]
  },
  {
   "cell_type": "markdown",
   "id": "2e04b865-5d51-4c95-a971-916212e08881",
   "metadata": {},
   "source": [
    "- Tìm hiểu sâu hơn về `fine-tuning`.\n",
    "- Tìm hiểu thêm về kiến thức domain."
   ]
  },
  {
   "cell_type": "markdown",
   "id": "54dfe689-b9bb-4d7c-b5c3-9022405a9610",
   "metadata": {},
   "source": [
    "## Thành viên 3: Thái Chí Vỹ (21120169)"
   ]
  },
  {
   "cell_type": "markdown",
   "id": "767c132e-40c8-42d6-93fb-ac2b95c3b570",
   "metadata": {},
   "source": [
    "### <span style=\"color:green\"> Kiến thức học được: </span>"
   ]
  },
  {
   "cell_type": "markdown",
   "id": "3ea963dd-a792-4f51-bd0f-997cef792631",
   "metadata": {},
   "source": [
    "- Cách thực hiện công việc của các thành viên khác và áp dụng cải tiến cho bản thân.\n",
    "- Cách chia sẻ ý kiến cá nhân.\n",
    "- Biết sử dụng `GitHub` hiệu quả hơn."
   ]
  },
  {
   "cell_type": "markdown",
   "id": "ad6fedbd-f1d6-4a5f-873f-6840a43b09a2",
   "metadata": {},
   "source": [
    "### <span style=\"color:red\"> Khó khăn gặp phải: </span>"
   ]
  },
  {
   "cell_type": "markdown",
   "id": "29a9b8e8-0b98-496c-9489-6a2758c4bdbf",
   "metadata": {},
   "source": [
    "- Chưa hiểu bản chất của thuật toán, chỉ import module và sử dụng hàm có sẵn để thực hiện.\n",
    "- Cách đặt một câu hỏi có ý nghĩa dựa trên các cột dữ liệu và kinh nghiệm thực tế."
   ]
  },
  {
   "cell_type": "markdown",
   "id": "55a63ef0-4ed8-48a3-bedd-7291feb82f72",
   "metadata": {},
   "source": [
    "### <span style=\"color:blue\"> Nếu còn thời gian: </span>"
   ]
  },
  {
   "cell_type": "markdown",
   "id": "624c3ef8-202c-45b2-86be-58183662092f",
   "metadata": {},
   "source": [
    "- Áp dụng `baseline` để chạy nhiều model cùng lúc.\n",
    "- Áp dụng `fine-tuning` tối ưu hơn và tìm hiểu nhiều cách tiếp cận hơn.\n",
    "- Có thể thực hiện triển khai thực tế."
   ]
  },
  {
   "cell_type": "markdown",
   "id": "c49dab9a-6048-4743-8b96-3b6d0725b7d0",
   "metadata": {},
   "source": [
    "## Thành viên 4: Bùi Đình Bảo (21120201)"
   ]
  },
  {
   "cell_type": "markdown",
   "id": "244392d3-dd86-47a4-8503-87231ae5c3ed",
   "metadata": {},
   "source": [
    "### <span style=\"color:green\"> Kiến thức học được: </span>"
   ]
  },
  {
   "cell_type": "markdown",
   "id": "b2196f51-43a1-43e1-bf89-f71bc8bb242c",
   "metadata": {},
   "source": [
    "- Quy trình chung của một dự án khoa học dữ liệu.\n",
    "- Kinh nghiệm làm việc nhóm, phân chia công việc trong đồ án.\n",
    "- Biết sử dụng các công cụ hỗ trợ làm việc hiệu quả hơn như `Trello`, `GitHub`."
   ]
  },
  {
   "cell_type": "markdown",
   "id": "9f6cec67-b55a-4700-8623-7dda7067e929",
   "metadata": {},
   "source": [
    "### <span style=\"color:red\"> Khó khăn gặp phải: </span>"
   ]
  },
  {
   "cell_type": "markdown",
   "id": "57b08056-7fb2-4a70-a12f-8be196435638",
   "metadata": {},
   "source": [
    "- Domain knowledge (kiến thức về kinh tế, điện ảnh).\n",
    "- ML algorithm in data modeling (chưa hiểu bản chất tường tận của thuật toán, chỉ import module và sử dụng hàm có sẵn để thực hiện).\n",
    "- Dữ liệu còn khá ít, chưa thật sự có ý nghĩa trong thực tế, thiếu kinh nghiệm xử lý dữ liệu khiến một số công đoạn thực hiện trở nên khó khăn."
   ]
  },
  {
   "cell_type": "markdown",
   "id": "5f14cdac-c213-4395-a58c-dcceb79bc3ba",
   "metadata": {},
   "source": [
    "### <span style=\"color:blue\"> Nếu còn thời gian: </span>"
   ]
  },
  {
   "cell_type": "markdown",
   "id": "2a77bfee-3acb-4030-9938-c7945637866a",
   "metadata": {},
   "source": [
    "- Tìm kiếm một bộ dữ liệu có ý nghĩa hơn trong thực tế.\n",
    "- Làm phase 3, triển khai mô hình trong thực tế.\n",
    "- Nghiên cứu và áp dụng `Data Pipeline`."
   ]
  },
  {
   "cell_type": "markdown",
   "id": "0f1a9b16-93d7-4845-8b29-d4f62be27978",
   "metadata": {},
   "source": [
    "# TỔNG KẾT TỰ ĐÁNH GIÁ NHÓM:"
   ]
  },
  {
   "cell_type": "markdown",
   "id": "6aa22020-aa2f-4f26-ba47-4d4671b2abb1",
   "metadata": {},
   "source": [
    "## <span style=\"color:green\"> Kiến thức học được: </span>"
   ]
  },
  {
   "cell_type": "markdown",
   "id": "1abd4c70-0916-44ff-9cf3-5251f0ebca24",
   "metadata": {},
   "source": [
    "> - Quy trình chung của một dự án Khoa học Dữ liệu.\n",
    "> - Kỹ năng làm việc nhóm.\n",
    "> - Cách sử dụng các công cụ hỗ trợ làm việc hiệu quả hơn như `GitHub`, `Trello`.\n",
    "> - Kiến thức chuyên môn về mô hình học máy.\n",
    "> - Biết thêm một mảng kiến thức domain.\n",
    "> - Học hỏi lẫn nhau giữa các thành viên trong nhóm."
   ]
  },
  {
   "cell_type": "markdown",
   "id": "61e4d215-9776-446f-b923-3e5b55ef0bb0",
   "metadata": {},
   "source": [
    "## <span style=\"color:red\"> Khó khăn gặp phải: </span>"
   ]
  },
  {
   "cell_type": "markdown",
   "id": "da4d233d-8a63-4e51-bdb1-0e98149b5476",
   "metadata": {},
   "source": [
    "> - Bộ dữ liệu chưa thật sự ý nghĩa, không có quá nhiều đặc trưng.\n",
    "> - Thiếu domain knowledge (kiến thức về kinh tế, điện ảnh).\n",
    "> - Chưa thể nghĩ ra được câu hỏi mang tính chuyên môn cao để phân tích (eda).\n",
    "> - Chưa hiểu rõ bản chất tường tận của thuật toán trong mô hình học máy, chỉ import module và sử dụng hàm có sẵn để thực hiện.\n",
    "> - Thiếu kinh nghiệm xử lý dữ liệu trong thực tế."
   ]
  },
  {
   "cell_type": "markdown",
   "id": "2f8b267f-1491-4056-8393-4eb23538f532",
   "metadata": {},
   "source": [
    "## <span style=\"color:blue\"> Nếu còn thời gian: </span>"
   ]
  },
  {
   "cell_type": "markdown",
   "id": "e1281172-08c1-4d98-a67e-39e1fd2a75f4",
   "metadata": {},
   "source": [
    "> - Nghiên cứu thêm về domain knowledge.\n",
    "> - Áp dụng sửa đổi theo `data pipeline` trong việc mô hình hóa dữ liệu.\n",
    "> - Nghiên cứu sâu hơn về thuật toán trong mô hình học máy để tinh chỉnh phù hợp hơn (`fine-tuning`).\n",
    "> - Làm thêm phase 3, triển khai mô hình dữ liệu trong thực tế."
   ]
  }
 ],
 "metadata": {
  "kernelspec": {
   "display_name": "Python 3 (ipykernel)",
   "language": "python",
   "name": "python3"
  },
  "language_info": {
   "codemirror_mode": {
    "name": "ipython",
    "version": 3
   },
   "file_extension": ".py",
   "mimetype": "text/x-python",
   "name": "python",
   "nbconvert_exporter": "python",
   "pygments_lexer": "ipython3",
   "version": "3.10.8"
  }
 },
 "nbformat": 4,
 "nbformat_minor": 5
}
