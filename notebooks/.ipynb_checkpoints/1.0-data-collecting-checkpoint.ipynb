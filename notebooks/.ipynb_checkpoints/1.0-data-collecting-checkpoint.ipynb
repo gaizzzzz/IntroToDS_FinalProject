{
 "cells": [
  {
   "cell_type": "markdown",
   "id": "d4fec3ba",
   "metadata": {},
   "source": [
    "Import libraries"
   ]
  },
  {
   "cell_type": "code",
   "execution_count": 1,
   "id": "4c458aaa",
   "metadata": {},
   "outputs": [],
   "source": [
    "import requests\n",
    "from bs4 import BeautifulSoup\n",
    "import re\n",
    "import pandas as pd"
   ]
  },
  {
   "cell_type": "markdown",
   "id": "3ba366b8",
   "metadata": {},
   "source": [
    "Crawl and save in dataframe"
   ]
  },
  {
   "cell_type": "code",
   "execution_count": null,
   "id": "e85dba65",
   "metadata": {
    "scrolled": false
   },
   "outputs": [
    {
     "name": "stdout",
     "output_type": "stream",
     "text": [
      "Page 1 done!\n",
      "Page 2 done!\n",
      "Page 3 done!\n",
      "Page 4 done!\n",
      "Page 5 done!\n"
     ]
    }
   ],
   "source": [
    "#tên, năm ra mắt, thể loại, đạo diễn, thời lượng, score, trạng thái, ngôn ngữ, ngân sách, doanh thu\n",
    "name = []\n",
    "release_year = []\n",
    "genre = []\n",
    "director = []\n",
    "runtime = []\n",
    "score = []\n",
    "status = []\n",
    "language = []\n",
    "budget = []\n",
    "revenue = []\n",
    "\n",
    "#lấy nội dung html\n",
    "for page in range(250):\n",
    "    root_url = 'https://www.themoviedb.org/movie/'\n",
    "    base_url = root_url + '?page=' + str(page + 1)\n",
    "    headers = {'User-Agent': 'Mozilla/5.0 (Windows NT 10.0; Win64; x64) AppleWebKit/537.36 (KHTML, like Gecko) Chrome/58.0.3029.110 Safari/537.3'}\n",
    "    response = requests.get(base_url, headers=headers)\n",
    "    if response.status_code == 200:\n",
    "        content = response.content.decode('utf-8', errors='replace')\n",
    "        soup = BeautifulSoup(content, 'html.parser')\n",
    "    else:\n",
    "        print('Failed to retrieve web data from the website.')\n",
    "\n",
    "    #lấy đường dẫn của các movie cụ thể\n",
    "    set_movie_id = set()\n",
    "    for a_tag in soup.find_all('a', href=re.compile(r'/movie/')):\n",
    "        match = re.search(r'/movie/(\\d+)', a_tag['href'])\n",
    "        if match:\n",
    "            set_movie_id.add(match.group(1))\n",
    "    list_movie_id = list(set_movie_id)\n",
    "    \n",
    "    #truy cập vào các movie cụ thể để lấy data\n",
    "    for movie_id in list_movie_id:\n",
    "        movie_url = root_url + movie_id\n",
    "        response = requests.get(movie_url, headers=headers)\n",
    "        if response.status_code == 200:\n",
    "            content = response.content.decode('utf-8', errors='replace')\n",
    "            soup = BeautifulSoup(content, 'html.parser')\n",
    "        else:\n",
    "            print('Failed to retrieve movie data from the website.')\n",
    "            break\n",
    "        #name\n",
    "        name_ = soup.find('div', class_='title').find('a').text\n",
    "        name.append(name_)\n",
    "\n",
    "        #release year\n",
    "        year_ = soup.find('span', class_='tag release_date').text.strip(\"()\") \n",
    "        release_year.append(year_)\n",
    "        \n",
    "        #genres\n",
    "        genres = [a.text for a in soup.find('span', class_='genres').find_all('a')]\n",
    "        genre.append(genres)\n",
    "\n",
    "        #runtime\n",
    "        runtime_ = soup.find('span', class_='runtime').text.strip() if soup.find('span', class_='runtime') is not None else ' -'\n",
    "        runtime.append(runtime_)\n",
    "\n",
    "        #score\n",
    "        score_ = soup.find('div', class_='user_score_chart')['data-percent']\n",
    "        score.append(score_)\n",
    "\n",
    "        #director\n",
    "        director_ = soup.find('li', class_='profile').find('a').text if soup.find('li', class_='profile') is not None else ' -'\n",
    "        director.append(director_)\n",
    "\n",
    "        #status, language, budget, revenue\n",
    "        p_section_element = soup.find('section', class_='facts left_column').find_all('p') \n",
    "        for ele in p_section_element:\n",
    "            text = ele.get_text(strip=True)\n",
    "            if text.startswith('Status'):\n",
    "                status_ = text.split('Status')[1]\n",
    "            elif text.startswith('Original Language'):\n",
    "                language_ = text.split('Original Language')[1]\n",
    "            elif text.startswith('Budget'):\n",
    "                budget_ = text.split('Budget')[1]\n",
    "            elif text.startswith('Revenue'):\n",
    "                 revenue_ = text.split('Revenue')[1]\n",
    "        status.append(status_)\n",
    "        language.append(language_)\n",
    "        budget.append(budget_)\n",
    "        revenue.append(revenue_)\n",
    "    print('Page ' + str(page + 1) + ' done!')"
   ]
  },
  {
   "cell_type": "code",
   "execution_count": null,
   "id": "c283bec2",
   "metadata": {},
   "outputs": [],
   "source": [
    "movie_df = pd.DataFrame({'Name': name, 'Released year': release_year, 'Genre': genre, 'Director': director, 'Runtime': runtime,\n",
    "                         'Score': score, 'Status': status, 'Language': language, 'Budget': budget, 'Revenue': revenue})\n",
    "movie_df"
   ]
  },
  {
   "cell_type": "code",
   "execution_count": null,
   "id": "cb180278",
   "metadata": {},
   "outputs": [],
   "source": [
    "movie_df.to_csv('../data/movies.csv', index = False)"
   ]
  },
  {
   "cell_type": "code",
   "execution_count": null,
   "id": "ef32cb09",
   "metadata": {},
   "outputs": [],
   "source": []
  }
 ],
 "metadata": {
  "kernelspec": {
   "display_name": "Python 3 (ipykernel)",
   "language": "python",
   "name": "python3"
  },
  "language_info": {
   "codemirror_mode": {
    "name": "ipython",
    "version": 3
   },
   "file_extension": ".py",
   "mimetype": "text/x-python",
   "name": "python",
   "nbconvert_exporter": "python",
   "pygments_lexer": "ipython3",
   "version": "3.10.9"
  }
 },
 "nbformat": 4,
 "nbformat_minor": 5
}
