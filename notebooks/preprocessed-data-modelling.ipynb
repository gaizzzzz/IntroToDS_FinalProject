{
 "cells": [
  {
   "cell_type": "markdown",
   "metadata": {},
   "source": [
    "<div style=\"text-align: center; background-color: #0A6EBD; font-family: 'Trebuchet MS', Arial, sans-serif; color: white; padding: 20px; font-size: 40px; font-weight: bold; border-radius: 0 0 0 0; box-shadow: 0px 6px 8px rgba(0, 0, 0, 0.2);\">\n",
    "  Final Project - Introduction to Data Science\n",
    "    <div style=\"text-align: center; background-color: #0A6EBD; font-family: 'Trebuchet MS', Arial, sans-serif; color: white; padding: 20px; font-size: 40px; font-weight: bold; border-radius: 0 0 0 0; box-shadow: 0px 6px 8px rgba(0, 0, 0, 0.2);\">\n",
    "    @ FIT-HCMUS, VNU-HCM 📌\n",
    "</div>"
   ]
  },
  {
   "cell_type": "markdown",
   "metadata": {},
   "source": [
    "<div style=\"text-align: center; background-color: #b1d1ff; font-family: 'Trebuchet MS', Arial, sans-serif; color: white; padding: 20px; font-size: 40px; font-weight: bold; border-radius: 0 0 0 0; box-shadow: 0px 6px 8px rgba(0, 0, 0, 0.2);\">\n",
    "  Stage 4.0 - Data modelling\n",
    "</div>"
   ]
  },
  {
   "cell_type": "markdown",
   "metadata": {},
   "source": [
    "## Import"
   ]
  },
  {
   "cell_type": "code",
<<<<<<< HEAD
   "execution_count": 1,
=======
   "execution_count": 27,
>>>>>>> main
   "metadata": {},
   "outputs": [],
   "source": [
    "import numpy as np\n",
    "import pandas as pd\n",
    "import matplotlib.pyplot as plt\n",
    "import sklearn\n",
    "from sklearn.preprocessing import LabelEncoder"
   ]
  },
  {
   "cell_type": "markdown",
   "metadata": {},
   "source": [
    "## Data preparation"
   ]
  },
  {
   "cell_type": "code",
<<<<<<< HEAD
   "execution_count": 2,
=======
   "execution_count": 8,
>>>>>>> main
   "metadata": {},
   "outputs": [
    {
     "data": {
      "text/html": [
       "<div>\n",
       "<style scoped>\n",
       "    .dataframe tbody tr th:only-of-type {\n",
       "        vertical-align: middle;\n",
       "    }\n",
       "\n",
       "    .dataframe tbody tr th {\n",
       "        vertical-align: top;\n",
       "    }\n",
       "\n",
       "    .dataframe thead th {\n",
       "        text-align: right;\n",
       "    }\n",
       "</style>\n",
       "<table border=\"1\" class=\"dataframe\">\n",
       "  <thead>\n",
       "    <tr style=\"text-align: right;\">\n",
       "      <th></th>\n",
       "      <th>Name</th>\n",
       "      <th>Released year</th>\n",
       "      <th>Genre</th>\n",
       "      <th>Director</th>\n",
       "      <th>Runtime (h)</th>\n",
       "      <th>Score</th>\n",
       "      <th>Status</th>\n",
       "      <th>Language</th>\n",
       "      <th>Budget ($)</th>\n",
       "      <th>Revenue ($)</th>\n",
       "    </tr>\n",
       "  </thead>\n",
       "  <tbody>\n",
       "    <tr>\n",
       "      <th>0</th>\n",
       "      <td>Fast X</td>\n",
       "      <td>2023</td>\n",
       "      <td>'Action', 'Crime', 'Thriller'</td>\n",
       "      <td>Dan Mazeau</td>\n",
       "      <td>2.37</td>\n",
       "      <td>72.0</td>\n",
       "      <td>Released</td>\n",
       "      <td>English</td>\n",
       "      <td>340000000.0</td>\n",
       "      <td>704709660.0</td>\n",
       "    </tr>\n",
       "    <tr>\n",
       "      <th>1</th>\n",
       "      <td>Trolls Band Together</td>\n",
       "      <td>2023</td>\n",
       "      <td>'Animation', 'Family', 'Music', 'Fantasy', 'Co...</td>\n",
       "      <td>Thomas Dam</td>\n",
       "      <td>1.53</td>\n",
       "      <td>72.0</td>\n",
       "      <td>Released</td>\n",
       "      <td>English</td>\n",
       "      <td>95000000.0</td>\n",
       "      <td>173800000.0</td>\n",
       "    </tr>\n",
       "    <tr>\n",
       "      <th>2</th>\n",
       "      <td>Robot Apocalypse</td>\n",
       "      <td>2021</td>\n",
       "      <td>'Science Fiction', 'Action'</td>\n",
       "      <td>Marcus Friedlander</td>\n",
       "      <td>1.45</td>\n",
       "      <td>21.0</td>\n",
       "      <td>Released</td>\n",
       "      <td>English</td>\n",
       "      <td>NaN</td>\n",
       "      <td>NaN</td>\n",
       "    </tr>\n",
       "    <tr>\n",
       "      <th>3</th>\n",
       "      <td>Five Nights at Freddy's</td>\n",
       "      <td>2023</td>\n",
       "      <td>'Horror', 'Mystery'</td>\n",
       "      <td>Emma Tammi</td>\n",
       "      <td>1.83</td>\n",
       "      <td>78.0</td>\n",
       "      <td>Released</td>\n",
       "      <td>English</td>\n",
       "      <td>20000000.0</td>\n",
       "      <td>286700000.0</td>\n",
       "    </tr>\n",
       "    <tr>\n",
       "      <th>4</th>\n",
       "      <td>Oppenheimer</td>\n",
       "      <td>2023</td>\n",
       "      <td>'Drama', 'History'</td>\n",
       "      <td>Christopher Nolan</td>\n",
       "      <td>3.02</td>\n",
       "      <td>81.0</td>\n",
       "      <td>Released</td>\n",
       "      <td>English</td>\n",
       "      <td>100000000.0</td>\n",
       "      <td>951000000.0</td>\n",
       "    </tr>\n",
       "    <tr>\n",
       "      <th>...</th>\n",
       "      <td>...</td>\n",
       "      <td>...</td>\n",
       "      <td>...</td>\n",
       "      <td>...</td>\n",
       "      <td>...</td>\n",
       "      <td>...</td>\n",
       "      <td>...</td>\n",
       "      <td>...</td>\n",
       "      <td>...</td>\n",
       "      <td>...</td>\n",
       "    </tr>\n",
       "    <tr>\n",
       "      <th>4995</th>\n",
       "      <td>Secret in Their Eyes</td>\n",
       "      <td>2015</td>\n",
       "      <td>'Thriller', 'Mystery', 'Drama', 'Crime'</td>\n",
       "      <td>Billy Ray</td>\n",
       "      <td>1.85</td>\n",
       "      <td>64.0</td>\n",
       "      <td>Released</td>\n",
       "      <td>English</td>\n",
       "      <td>19500000.0</td>\n",
       "      <td>34854990.0</td>\n",
       "    </tr>\n",
       "    <tr>\n",
       "      <th>4996</th>\n",
       "      <td>The Vatican Tapes</td>\n",
       "      <td>2015</td>\n",
       "      <td>'Thriller', 'Horror'</td>\n",
       "      <td>Mark Neveldine</td>\n",
       "      <td>1.52</td>\n",
       "      <td>53.0</td>\n",
       "      <td>Released</td>\n",
       "      <td>English</td>\n",
       "      <td>13000000.0</td>\n",
       "      <td>1784763.0</td>\n",
       "    </tr>\n",
       "    <tr>\n",
       "      <th>4997</th>\n",
       "      <td>Song to Song</td>\n",
       "      <td>2017</td>\n",
       "      <td>'Romance', 'Drama', 'Music'</td>\n",
       "      <td>Terrence Malick</td>\n",
       "      <td>2.15</td>\n",
       "      <td>55.0</td>\n",
       "      <td>Released</td>\n",
       "      <td>English</td>\n",
       "      <td>10000000.0</td>\n",
       "      <td>1710528.0</td>\n",
       "    </tr>\n",
       "    <tr>\n",
       "      <th>4998</th>\n",
       "      <td>Divine Intervention</td>\n",
       "      <td>2023</td>\n",
       "      <td>'Comedy'</td>\n",
       "      <td>Pedro Pablo Ibarra</td>\n",
       "      <td>1.67</td>\n",
       "      <td>82.0</td>\n",
       "      <td>Released</td>\n",
       "      <td>Spanish; Castilian</td>\n",
       "      <td>NaN</td>\n",
       "      <td>NaN</td>\n",
       "    </tr>\n",
       "    <tr>\n",
       "      <th>4999</th>\n",
       "      <td>Armour of God</td>\n",
       "      <td>1986</td>\n",
       "      <td>'Adventure', 'Action', 'Comedy'</td>\n",
       "      <td>Jackie Chan</td>\n",
       "      <td>1.63</td>\n",
       "      <td>70.0</td>\n",
       "      <td>Released</td>\n",
       "      <td>Cantonese</td>\n",
       "      <td>15000000.0</td>\n",
       "      <td>NaN</td>\n",
       "    </tr>\n",
       "  </tbody>\n",
       "</table>\n",
       "<p>5000 rows × 10 columns</p>\n",
       "</div>"
      ],
      "text/plain": [
       "                         Name  Released year  \\\n",
       "0                      Fast X           2023   \n",
       "1        Trolls Band Together           2023   \n",
       "2            Robot Apocalypse           2021   \n",
       "3     Five Nights at Freddy's           2023   \n",
       "4                 Oppenheimer           2023   \n",
       "...                       ...            ...   \n",
       "4995     Secret in Their Eyes           2015   \n",
       "4996        The Vatican Tapes           2015   \n",
       "4997             Song to Song           2017   \n",
       "4998      Divine Intervention           2023   \n",
       "4999            Armour of God           1986   \n",
       "\n",
       "                                                  Genre            Director  \\\n",
       "0                         'Action', 'Crime', 'Thriller'          Dan Mazeau   \n",
       "1     'Animation', 'Family', 'Music', 'Fantasy', 'Co...          Thomas Dam   \n",
       "2                           'Science Fiction', 'Action'  Marcus Friedlander   \n",
       "3                                   'Horror', 'Mystery'          Emma Tammi   \n",
       "4                                    'Drama', 'History'   Christopher Nolan   \n",
       "...                                                 ...                 ...   \n",
       "4995            'Thriller', 'Mystery', 'Drama', 'Crime'           Billy Ray   \n",
       "4996                               'Thriller', 'Horror'      Mark Neveldine   \n",
       "4997                        'Romance', 'Drama', 'Music'     Terrence Malick   \n",
       "4998                                           'Comedy'  Pedro Pablo Ibarra   \n",
       "4999                    'Adventure', 'Action', 'Comedy'         Jackie Chan   \n",
       "\n",
       "      Runtime (h)  Score    Status            Language   Budget ($)  \\\n",
       "0            2.37   72.0  Released             English  340000000.0   \n",
       "1            1.53   72.0  Released             English   95000000.0   \n",
       "2            1.45   21.0  Released             English          NaN   \n",
       "3            1.83   78.0  Released             English   20000000.0   \n",
       "4            3.02   81.0  Released             English  100000000.0   \n",
       "...           ...    ...       ...                 ...          ...   \n",
       "4995         1.85   64.0  Released             English   19500000.0   \n",
       "4996         1.52   53.0  Released             English   13000000.0   \n",
       "4997         2.15   55.0  Released             English   10000000.0   \n",
       "4998         1.67   82.0  Released  Spanish; Castilian          NaN   \n",
       "4999         1.63   70.0  Released           Cantonese   15000000.0   \n",
       "\n",
       "      Revenue ($)  \n",
       "0     704709660.0  \n",
       "1     173800000.0  \n",
       "2             NaN  \n",
       "3     286700000.0  \n",
       "4     951000000.0  \n",
       "...           ...  \n",
       "4995   34854990.0  \n",
       "4996    1784763.0  \n",
       "4997    1710528.0  \n",
       "4998          NaN  \n",
       "4999          NaN  \n",
       "\n",
       "[5000 rows x 10 columns]"
      ]
     },
<<<<<<< HEAD
     "execution_count": 2,
=======
     "execution_count": 8,
>>>>>>> main
     "metadata": {},
     "output_type": "execute_result"
    }
   ],
   "source": [
    "movie_df = pd.read_csv('./../data/processed.csv')\n",
    "movie_df"
   ]
  },
  {
   "cell_type": "markdown",
   "metadata": {},
   "source": [
    "## Feature engineering"
   ]
  },
  {
   "cell_type": "code",
<<<<<<< HEAD
   "execution_count": 3,
=======
   "execution_count": 34,
>>>>>>> main
   "metadata": {},
   "outputs": [
    {
     "data": {
      "text/html": [
       "<div>\n",
       "<style scoped>\n",
       "    .dataframe tbody tr th:only-of-type {\n",
       "        vertical-align: middle;\n",
       "    }\n",
       "\n",
       "    .dataframe tbody tr th {\n",
       "        vertical-align: top;\n",
       "    }\n",
       "\n",
       "    .dataframe thead th {\n",
       "        text-align: right;\n",
       "    }\n",
       "</style>\n",
       "<table border=\"1\" class=\"dataframe\">\n",
       "  <thead>\n",
       "    <tr style=\"text-align: right;\">\n",
       "      <th></th>\n",
       "      <th>Genre_Action</th>\n",
       "      <th>Genre_Adventure</th>\n",
       "      <th>Genre_Animation</th>\n",
       "      <th>Genre_Comedy</th>\n",
       "      <th>Genre_Crime</th>\n",
       "      <th>Genre_Drama</th>\n",
       "      <th>Genre_Family</th>\n",
       "      <th>Genre_Fantasy</th>\n",
       "      <th>Genre_History</th>\n",
       "      <th>Genre_Horror</th>\n",
       "      <th>...</th>\n",
<<<<<<< HEAD
=======
       "      <th>Genre_Science Fiction</th>\n",
>>>>>>> main
       "      <th>Genre_TV Movie</th>\n",
       "      <th>Genre_Thriller</th>\n",
       "      <th>Genre_War</th>\n",
       "      <th>Genre_Western</th>\n",
       "      <th>Runtime (h)</th>\n",
       "      <th>Score</th>\n",
       "      <th>Budget ($)</th>\n",
       "      <th>Revenue ($)</th>\n",
       "      <th>Language_encoded</th>\n",
<<<<<<< HEAD
       "      <th>Gain</th>\n",
=======
>>>>>>> main
       "    </tr>\n",
       "  </thead>\n",
       "  <tbody>\n",
       "    <tr>\n",
       "      <th>0</th>\n",
       "      <td>1</td>\n",
       "      <td>0</td>\n",
       "      <td>0</td>\n",
       "      <td>0</td>\n",
       "      <td>1</td>\n",
       "      <td>0</td>\n",
       "      <td>0</td>\n",
       "      <td>0</td>\n",
       "      <td>0</td>\n",
       "      <td>0</td>\n",
       "      <td>...</td>\n",
       "      <td>0</td>\n",
<<<<<<< HEAD
=======
       "      <td>0</td>\n",
>>>>>>> main
       "      <td>1</td>\n",
       "      <td>0</td>\n",
       "      <td>0</td>\n",
       "      <td>2.37</td>\n",
       "      <td>72.0</td>\n",
       "      <td>340000000.0</td>\n",
       "      <td>704709660.0</td>\n",
       "      <td>5</td>\n",
<<<<<<< HEAD
       "      <td>True</td>\n",
=======
>>>>>>> main
       "    </tr>\n",
       "    <tr>\n",
       "      <th>1</th>\n",
       "      <td>0</td>\n",
       "      <td>0</td>\n",
       "      <td>1</td>\n",
       "      <td>1</td>\n",
       "      <td>0</td>\n",
       "      <td>0</td>\n",
       "      <td>1</td>\n",
       "      <td>1</td>\n",
       "      <td>0</td>\n",
       "      <td>0</td>\n",
       "      <td>...</td>\n",
       "      <td>0</td>\n",
       "      <td>0</td>\n",
       "      <td>0</td>\n",
       "      <td>0</td>\n",
<<<<<<< HEAD
=======
       "      <td>0</td>\n",
>>>>>>> main
       "      <td>1.53</td>\n",
       "      <td>72.0</td>\n",
       "      <td>95000000.0</td>\n",
       "      <td>173800000.0</td>\n",
       "      <td>5</td>\n",
<<<<<<< HEAD
       "      <td>True</td>\n",
=======
>>>>>>> main
       "    </tr>\n",
       "    <tr>\n",
       "      <th>3</th>\n",
       "      <td>0</td>\n",
       "      <td>0</td>\n",
       "      <td>0</td>\n",
       "      <td>0</td>\n",
       "      <td>0</td>\n",
       "      <td>0</td>\n",
       "      <td>0</td>\n",
       "      <td>0</td>\n",
       "      <td>0</td>\n",
       "      <td>1</td>\n",
       "      <td>...</td>\n",
       "      <td>0</td>\n",
       "      <td>0</td>\n",
       "      <td>0</td>\n",
       "      <td>0</td>\n",
<<<<<<< HEAD
=======
       "      <td>0</td>\n",
>>>>>>> main
       "      <td>1.83</td>\n",
       "      <td>78.0</td>\n",
       "      <td>20000000.0</td>\n",
       "      <td>286700000.0</td>\n",
       "      <td>5</td>\n",
<<<<<<< HEAD
       "      <td>True</td>\n",
=======
>>>>>>> main
       "    </tr>\n",
       "    <tr>\n",
       "      <th>4</th>\n",
       "      <td>0</td>\n",
       "      <td>0</td>\n",
       "      <td>0</td>\n",
       "      <td>0</td>\n",
       "      <td>0</td>\n",
       "      <td>1</td>\n",
       "      <td>0</td>\n",
       "      <td>0</td>\n",
       "      <td>1</td>\n",
       "      <td>0</td>\n",
       "      <td>...</td>\n",
       "      <td>0</td>\n",
       "      <td>0</td>\n",
       "      <td>0</td>\n",
       "      <td>0</td>\n",
<<<<<<< HEAD
=======
       "      <td>0</td>\n",
>>>>>>> main
       "      <td>3.02</td>\n",
       "      <td>81.0</td>\n",
       "      <td>100000000.0</td>\n",
       "      <td>951000000.0</td>\n",
       "      <td>5</td>\n",
<<<<<<< HEAD
       "      <td>True</td>\n",
=======
>>>>>>> main
       "    </tr>\n",
       "    <tr>\n",
       "      <th>7</th>\n",
       "      <td>1</td>\n",
       "      <td>0</td>\n",
       "      <td>0</td>\n",
       "      <td>1</td>\n",
       "      <td>0</td>\n",
       "      <td>0</td>\n",
       "      <td>0</td>\n",
       "      <td>0</td>\n",
       "      <td>0</td>\n",
       "      <td>0</td>\n",
       "      <td>...</td>\n",
       "      <td>0</td>\n",
       "      <td>0</td>\n",
       "      <td>0</td>\n",
       "      <td>0</td>\n",
<<<<<<< HEAD
=======
       "      <td>0</td>\n",
>>>>>>> main
       "      <td>1.80</td>\n",
       "      <td>65.0</td>\n",
       "      <td>40000000.0</td>\n",
       "      <td>8000000.0</td>\n",
       "      <td>5</td>\n",
<<<<<<< HEAD
       "      <td>False</td>\n",
=======
>>>>>>> main
       "    </tr>\n",
       "    <tr>\n",
       "      <th>...</th>\n",
       "      <td>...</td>\n",
       "      <td>...</td>\n",
       "      <td>...</td>\n",
       "      <td>...</td>\n",
       "      <td>...</td>\n",
       "      <td>...</td>\n",
       "      <td>...</td>\n",
       "      <td>...</td>\n",
       "      <td>...</td>\n",
       "      <td>...</td>\n",
       "      <td>...</td>\n",
       "      <td>...</td>\n",
       "      <td>...</td>\n",
       "      <td>...</td>\n",
       "      <td>...</td>\n",
       "      <td>...</td>\n",
       "      <td>...</td>\n",
       "      <td>...</td>\n",
       "      <td>...</td>\n",
       "      <td>...</td>\n",
       "      <td>...</td>\n",
       "    </tr>\n",
       "    <tr>\n",
       "      <th>4990</th>\n",
       "      <td>1</td>\n",
       "      <td>1</td>\n",
       "      <td>0</td>\n",
       "      <td>0</td>\n",
       "      <td>0</td>\n",
       "      <td>0</td>\n",
       "      <td>0</td>\n",
       "      <td>0</td>\n",
       "      <td>0</td>\n",
       "      <td>0</td>\n",
       "      <td>...</td>\n",
       "      <td>0</td>\n",
<<<<<<< HEAD
=======
       "      <td>0</td>\n",
>>>>>>> main
       "      <td>1</td>\n",
       "      <td>0</td>\n",
       "      <td>0</td>\n",
       "      <td>1.62</td>\n",
       "      <td>56.0</td>\n",
       "      <td>9000000.0</td>\n",
       "      <td>146863.0</td>\n",
       "      <td>5</td>\n",
<<<<<<< HEAD
       "      <td>False</td>\n",
=======
>>>>>>> main
       "    </tr>\n",
       "    <tr>\n",
       "      <th>4992</th>\n",
       "      <td>0</td>\n",
       "      <td>0</td>\n",
       "      <td>0</td>\n",
       "      <td>0</td>\n",
       "      <td>0</td>\n",
       "      <td>1</td>\n",
       "      <td>0</td>\n",
       "      <td>0</td>\n",
       "      <td>0</td>\n",
       "      <td>0</td>\n",
       "      <td>...</td>\n",
       "      <td>0</td>\n",
       "      <td>0</td>\n",
       "      <td>0</td>\n",
       "      <td>0</td>\n",
<<<<<<< HEAD
=======
       "      <td>0</td>\n",
>>>>>>> main
       "      <td>1.85</td>\n",
       "      <td>67.0</td>\n",
       "      <td>23000000.0</td>\n",
       "      <td>19652638.0</td>\n",
       "      <td>5</td>\n",
<<<<<<< HEAD
       "      <td>False</td>\n",
=======
>>>>>>> main
       "    </tr>\n",
       "    <tr>\n",
       "      <th>4995</th>\n",
       "      <td>0</td>\n",
       "      <td>0</td>\n",
       "      <td>0</td>\n",
       "      <td>0</td>\n",
       "      <td>1</td>\n",
       "      <td>1</td>\n",
       "      <td>0</td>\n",
       "      <td>0</td>\n",
       "      <td>0</td>\n",
       "      <td>0</td>\n",
       "      <td>...</td>\n",
       "      <td>0</td>\n",
<<<<<<< HEAD
=======
       "      <td>0</td>\n",
>>>>>>> main
       "      <td>1</td>\n",
       "      <td>0</td>\n",
       "      <td>0</td>\n",
       "      <td>1.85</td>\n",
       "      <td>64.0</td>\n",
       "      <td>19500000.0</td>\n",
       "      <td>34854990.0</td>\n",
       "      <td>5</td>\n",
<<<<<<< HEAD
       "      <td>True</td>\n",
=======
>>>>>>> main
       "    </tr>\n",
       "    <tr>\n",
       "      <th>4996</th>\n",
       "      <td>0</td>\n",
       "      <td>0</td>\n",
       "      <td>0</td>\n",
       "      <td>0</td>\n",
       "      <td>0</td>\n",
       "      <td>0</td>\n",
       "      <td>0</td>\n",
       "      <td>0</td>\n",
       "      <td>0</td>\n",
       "      <td>1</td>\n",
       "      <td>...</td>\n",
       "      <td>0</td>\n",
<<<<<<< HEAD
=======
       "      <td>0</td>\n",
>>>>>>> main
       "      <td>1</td>\n",
       "      <td>0</td>\n",
       "      <td>0</td>\n",
       "      <td>1.52</td>\n",
       "      <td>53.0</td>\n",
       "      <td>13000000.0</td>\n",
       "      <td>1784763.0</td>\n",
       "      <td>5</td>\n",
<<<<<<< HEAD
       "      <td>False</td>\n",
=======
>>>>>>> main
       "    </tr>\n",
       "    <tr>\n",
       "      <th>4997</th>\n",
       "      <td>0</td>\n",
       "      <td>0</td>\n",
       "      <td>0</td>\n",
       "      <td>0</td>\n",
       "      <td>0</td>\n",
       "      <td>1</td>\n",
       "      <td>0</td>\n",
       "      <td>0</td>\n",
       "      <td>0</td>\n",
       "      <td>0</td>\n",
       "      <td>...</td>\n",
       "      <td>0</td>\n",
       "      <td>0</td>\n",
       "      <td>0</td>\n",
       "      <td>0</td>\n",
<<<<<<< HEAD
=======
       "      <td>0</td>\n",
>>>>>>> main
       "      <td>2.15</td>\n",
       "      <td>55.0</td>\n",
       "      <td>10000000.0</td>\n",
       "      <td>1710528.0</td>\n",
       "      <td>5</td>\n",
<<<<<<< HEAD
       "      <td>False</td>\n",
       "    </tr>\n",
       "  </tbody>\n",
       "</table>\n",
       "<p>2969 rows × 24 columns</p>\n",
=======
       "    </tr>\n",
       "  </tbody>\n",
       "</table>\n",
       "<p>2969 rows × 23 columns</p>\n",
>>>>>>> main
       "</div>"
      ],
      "text/plain": [
       "      Genre_Action  Genre_Adventure  Genre_Animation  Genre_Comedy  \\\n",
       "0                1                0                0             0   \n",
       "1                0                0                1             1   \n",
       "3                0                0                0             0   \n",
       "4                0                0                0             0   \n",
       "7                1                0                0             1   \n",
       "...            ...              ...              ...           ...   \n",
       "4990             1                1                0             0   \n",
       "4992             0                0                0             0   \n",
       "4995             0                0                0             0   \n",
       "4996             0                0                0             0   \n",
       "4997             0                0                0             0   \n",
       "\n",
       "      Genre_Crime  Genre_Drama  Genre_Family  Genre_Fantasy  Genre_History  \\\n",
       "0               1            0             0              0              0   \n",
       "1               0            0             1              1              0   \n",
       "3               0            0             0              0              0   \n",
       "4               0            1             0              0              1   \n",
       "7               0            0             0              0              0   \n",
       "...           ...          ...           ...            ...            ...   \n",
       "4990            0            0             0              0              0   \n",
       "4992            0            1             0              0              0   \n",
       "4995            1            1             0              0              0   \n",
       "4996            0            0             0              0              0   \n",
       "4997            0            1             0              0              0   \n",
       "\n",
<<<<<<< HEAD
       "      Genre_Horror  ...  Genre_TV Movie  Genre_Thriller  Genre_War  \\\n",
       "0                0  ...               0               1          0   \n",
       "1                0  ...               0               0          0   \n",
       "3                1  ...               0               0          0   \n",
       "4                0  ...               0               0          0   \n",
       "7                0  ...               0               0          0   \n",
       "...            ...  ...             ...             ...        ...   \n",
       "4990             0  ...               0               1          0   \n",
       "4992             0  ...               0               0          0   \n",
       "4995             0  ...               0               1          0   \n",
       "4996             1  ...               0               1          0   \n",
       "4997             0  ...               0               0          0   \n",
       "\n",
       "      Genre_Western  Runtime (h)  Score   Budget ($)  Revenue ($)  \\\n",
       "0                 0         2.37   72.0  340000000.0  704709660.0   \n",
       "1                 0         1.53   72.0   95000000.0  173800000.0   \n",
       "3                 0         1.83   78.0   20000000.0  286700000.0   \n",
       "4                 0         3.02   81.0  100000000.0  951000000.0   \n",
       "7                 0         1.80   65.0   40000000.0    8000000.0   \n",
       "...             ...          ...    ...          ...          ...   \n",
       "4990              0         1.62   56.0    9000000.0     146863.0   \n",
       "4992              0         1.85   67.0   23000000.0   19652638.0   \n",
       "4995              0         1.85   64.0   19500000.0   34854990.0   \n",
       "4996              0         1.52   53.0   13000000.0    1784763.0   \n",
       "4997              0         2.15   55.0   10000000.0    1710528.0   \n",
       "\n",
       "      Language_encoded   Gain  \n",
       "0                    5   True  \n",
       "1                    5   True  \n",
       "3                    5   True  \n",
       "4                    5   True  \n",
       "7                    5  False  \n",
       "...                ...    ...  \n",
       "4990                 5  False  \n",
       "4992                 5  False  \n",
       "4995                 5   True  \n",
       "4996                 5  False  \n",
       "4997                 5  False  \n",
       "\n",
       "[2969 rows x 24 columns]"
      ]
     },
     "execution_count": 3,
=======
       "      Genre_Horror  ...  Genre_Science Fiction  Genre_TV Movie  \\\n",
       "0                0  ...                      0               0   \n",
       "1                0  ...                      0               0   \n",
       "3                1  ...                      0               0   \n",
       "4                0  ...                      0               0   \n",
       "7                0  ...                      0               0   \n",
       "...            ...  ...                    ...             ...   \n",
       "4990             0  ...                      0               0   \n",
       "4992             0  ...                      0               0   \n",
       "4995             0  ...                      0               0   \n",
       "4996             1  ...                      0               0   \n",
       "4997             0  ...                      0               0   \n",
       "\n",
       "      Genre_Thriller  Genre_War  Genre_Western  Runtime (h)  Score  \\\n",
       "0                  1          0              0         2.37   72.0   \n",
       "1                  0          0              0         1.53   72.0   \n",
       "3                  0          0              0         1.83   78.0   \n",
       "4                  0          0              0         3.02   81.0   \n",
       "7                  0          0              0         1.80   65.0   \n",
       "...              ...        ...            ...          ...    ...   \n",
       "4990               1          0              0         1.62   56.0   \n",
       "4992               0          0              0         1.85   67.0   \n",
       "4995               1          0              0         1.85   64.0   \n",
       "4996               1          0              0         1.52   53.0   \n",
       "4997               0          0              0         2.15   55.0   \n",
       "\n",
       "       Budget ($)  Revenue ($)  Language_encoded  \n",
       "0     340000000.0  704709660.0                 5  \n",
       "1      95000000.0  173800000.0                 5  \n",
       "3      20000000.0  286700000.0                 5  \n",
       "4     100000000.0  951000000.0                 5  \n",
       "7      40000000.0    8000000.0                 5  \n",
       "...           ...          ...               ...  \n",
       "4990    9000000.0     146863.0                 5  \n",
       "4992   23000000.0   19652638.0                 5  \n",
       "4995   19500000.0   34854990.0                 5  \n",
       "4996   13000000.0    1784763.0                 5  \n",
       "4997   10000000.0    1710528.0                 5  \n",
       "\n",
       "[2969 rows x 23 columns]"
      ]
     },
     "execution_count": 34,
>>>>>>> main
     "metadata": {},
     "output_type": "execute_result"
    }
   ],
   "source": [
    "df = movie_df[['Genre', 'Runtime (h)', 'Score', 'Language', 'Budget ($)', 'Revenue ($)']].dropna()\n",
    "\n",
    "one_hot_df = pd.DataFrame()\n",
    "def splitGenre(s):\n",
    "    return s.split(', ')\n",
    "genre_stack = df['Genre'].apply(splitGenre).agg(pd.Series).stack().agg(pd.Series).stack()\n",
    "genre_dummy = pd.get_dummies(genre_stack).groupby(level = 0).sum()\n",
    "genre_dummy.columns = ['Genre_' + col.replace(\"'\", \"\") for col in genre_dummy.columns]\n",
    "df = pd.concat([genre_dummy, df], axis = 1)\n",
    "\n",
    "label_encoder=LabelEncoder()\n",
    "df['Language_encoded'] = label_encoder.fit_transform(df['Language'])\n",
    "\n",
    "df = df.drop(['Genre', 'Language'], axis=1)\n",
    "\n",
<<<<<<< HEAD
    "df\n",
    "df['Gain'] = df['Revenue ($)'] > df['Budget ($)']\n",
    "\n",
    "df\n"
=======
    "df"
>>>>>>> main
   ]
  },
  {
   "cell_type": "markdown",
   "metadata": {},
   "source": [
    "## Training model"
   ]
  },
  {
   "cell_type": "code",
<<<<<<< HEAD
   "execution_count": 4,
   "metadata": {},
   "outputs": [
    {
     "name": "stdout",
     "output_type": "stream",
     "text": [
      "[[ 1.34560428 -0.65563826 -0.32902804 ...  0.16006025  0.01198458\n",
      "  -0.19703532]\n",
      " [ 1.34560428  1.5252313  -0.32902804 ...  3.52985859  7.75850156\n",
      "  -0.19703532]\n",
      " [ 1.34560428  1.5252313  -0.32902804 ...  0.74294429  0.37238059\n",
      "  -0.19703532]\n",
      " ...\n",
      " [-0.74316054 -0.65563826 -0.32902804 ... -0.34996328 -0.10566726\n",
      "  -0.19703532]\n",
      " [-0.74316054 -0.65563826 -0.32902804 ... -0.91463219 -0.64334615\n",
      "  -0.19703532]\n",
      " [-0.74316054 -0.65563826 -0.32902804 ... -0.75069606 -0.68019633\n",
      "  -0.19703532]]\n",
      "Accuracy: 0.9545454545454546\n",
      "Classification Report:\n",
      "               precision    recall  f1-score   support\n",
      "\n",
      "       False       0.97      0.71      0.82        87\n",
      "        True       0.95      1.00      0.97       507\n",
      "\n",
      "    accuracy                           0.95       594\n",
      "   macro avg       0.96      0.85      0.90       594\n",
      "weighted avg       0.96      0.95      0.95       594\n",
      "\n"
     ]
    }
   ],
   "source": [
    "# YOUR CODE HERE (OPTION) \n",
    "\n",
    "# Import các thư viện cần thiết\n",
    "import pandas as pd\n",
    "from sklearn.model_selection import train_test_split\n",
    "from sklearn.svm import SVC\n",
    "from sklearn.metrics import accuracy_score, classification_report\n",
    "from sklearn.preprocessing import StandardScaler\n",
    "\n",
    "# Đọc dữ liệu từ dataset (giả sử là file CSV)\n",
    "# Thay đổi đường dẫn tới file dataset của bạn\n",
    "\n",
    "data = df\n",
    "\n",
    "# Chia dữ liệu thành features (X) và nhãn (y)\n",
    "\n",
    "X = data.drop('Gain', axis=1)  # Thay 'label_column' bằng tên cột nhãn\n",
    "y = data['Gain']\n",
    "\n",
    "# Chia dữ liệu thành tập huấn luyện và tập kiểm tra\n",
    "X_train, X_test, y_train, y_test = train_test_split(X, y, test_size=0.2, random_state=42)\n",
    "\n",
    "# Tiền xử lý dữ liệu: chuẩn hóa các giá trị\n",
    "scaler = StandardScaler()\n",
    "X_train_scaled = scaler.fit_transform(X_train)\n",
    "X_test_scaled = scaler.transform(X_test)\n",
    "print(X_train_scaled)\n",
    "\n",
    "# Xây dựng mô hình SVM\n",
    "svm_model = SVC(kernel='linear', C=1.0)\n",
    "svm_model.fit(X_train_scaled, y_train)\n",
    "\n",
    "# Dự đoán trên tập kiểm tra\n",
    "y_pred = svm_model.predict(X_test_scaled)\n",
    "\n",
    "# Đánh giá mô hình\n",
    "accuracy = accuracy_score(y_test, y_pred)\n",
    "classification_report_result = classification_report(y_test, y_pred)\n",
    "\n",
    "# In kết quả\n",
    "print(f'Accuracy: {accuracy}')\n",
    "print('Classification Report:\\n', classification_report_result)"
   ]
  },
  {
   "cell_type": "code",
   "execution_count": 5,
   "metadata": {},
   "outputs": [
    {
     "name": "stdout",
     "output_type": "stream",
     "text": [
      "Accuracy: 0.8265993265993266\n",
      "Classification Report:\n",
      "               precision    recall  f1-score   support\n",
      "\n",
      "       False       0.23      0.08      0.12        87\n",
      "        True       0.86      0.95      0.90       507\n",
      "\n",
      "    accuracy                           0.83       594\n",
      "   macro avg       0.55      0.52      0.51       594\n",
      "weighted avg       0.77      0.83      0.79       594\n",
      "\n"
     ]
    }
   ],
   "source": [
    "# Import các thư viện cần thiết\n",
    "import pandas as pd\n",
    "from sklearn.model_selection import train_test_split\n",
    "from sklearn.neighbors import KNeighborsClassifier\n",
    "from sklearn.metrics import accuracy_score, classification_report\n",
    "from sklearn.preprocessing import StandardScaler\n",
    "\n",
    "# Đọc dữ liệu từ dataset (giả sử là file CSV)\n",
    "# Thay đổi đường dẫn tới file dataset của bạn\n",
    "\n",
    "data = df\n",
    "\n",
    "# Đọc dữ liệu từ dataframe (giả sử df là dataframe của bạn)\n",
    "# Thay 'label_column' bằng tên cột nhãn\n",
    "\n",
    "X = data.drop('Gain', axis=1)  \n",
    "y = data['Gain']\n",
    "\n",
    "# Chia dữ liệu thành tập huấn luyện và tập kiểm tra\n",
    "X_train, X_test, y_train, y_test = train_test_split(X, y, test_size=0.2, random_state=42)\n",
    "\n",
    "# Tiền xử lý dữ liệu: chuẩn hóa các giá trị\n",
    "scaler = StandardScaler()\n",
    "X_train_scaled = scaler.fit_transform(X_train)\n",
    "X_test_scaled = scaler.transform(X_test)\n",
    "\n",
    "# Xây dựng mô hình KNN\n",
    "knn_model = KNeighborsClassifier(n_neighbors=5)  # Chọn số lân cận k tùy chọn\n",
    "knn_model.fit(X_train_scaled, y_train)\n",
    "\n",
    "# Dự đoán trên tập kiểm tra\n",
    "y_pred = knn_model.predict(X_test_scaled)\n",
    "\n",
    "# Đánh giá mô hình\n",
    "accuracy = accuracy_score(y_test, y_pred)\n",
    "classification_report_result = classification_report(y_test, y_pred)\n",
    "\n",
    "# In kết quả\n",
    "print(f'Accuracy: {accuracy}')\n",
    "print('Classification Report:\\n', classification_report_result)\n"
=======
   "execution_count": null,
   "metadata": {},
   "outputs": [],
   "source": [
    "# YOUR CODE HERE (OPTION) "
>>>>>>> main
   ]
  },
  {
   "cell_type": "markdown",
   "metadata": {},
   "source": [
    "## Evaluation"
   ]
  },
  {
   "cell_type": "code",
<<<<<<< HEAD
   "execution_count": 6,
   "metadata": {},
   "outputs": [],
   "source": [
    "# YOUR CODE HERE (OPTION) \n"
=======
   "execution_count": null,
   "metadata": {},
   "outputs": [],
   "source": [
    "# YOUR CODE HERE (OPTION) "
>>>>>>> main
   ]
  },
  {
   "cell_type": "markdown",
   "metadata": {},
   "source": [
    "## Prediction"
   ]
  },
  {
   "cell_type": "code",
<<<<<<< HEAD
   "execution_count": 7,
=======
   "execution_count": null,
>>>>>>> main
   "metadata": {},
   "outputs": [],
   "source": [
    "# YOUR CODE HERE (OPTION) "
   ]
  },
  {
   "cell_type": "markdown",
   "metadata": {},
   "source": [
    "## Results analysis"
   ]
  },
  {
   "cell_type": "code",
<<<<<<< HEAD
   "execution_count": 8,
=======
   "execution_count": null,
>>>>>>> main
   "metadata": {},
   "outputs": [],
   "source": [
    "# YOUR CODE HERE (OPTION) "
   ]
  },
  {
   "cell_type": "markdown",
   "metadata": {},
   "source": [
    "## Conclusion"
   ]
  },
  {
   "cell_type": "markdown",
   "metadata": {},
   "source": [
    "**Your conclusion**"
   ]
  }
 ],
 "metadata": {
  "kernelspec": {
   "display_name": "Python 3 (ipykernel)",
   "language": "python",
   "name": "python3"
  },
  "language_info": {
   "codemirror_mode": {
    "name": "ipython",
    "version": 3
   },
   "file_extension": ".py",
   "mimetype": "text/x-python",
   "name": "python",
   "nbconvert_exporter": "python",
   "pygments_lexer": "ipython3",
<<<<<<< HEAD
   "version": "3.10.8"
=======
   "version": "3.11.5"
>>>>>>> main
  }
 },
 "nbformat": 4,
 "nbformat_minor": 4
}
