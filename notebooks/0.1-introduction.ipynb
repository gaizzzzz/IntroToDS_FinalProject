{
 "cells": [
  {
   "cell_type": "markdown",
   "metadata": {},
   "source": [
    "<div style=\"text-align: center; background-color: #0A6EBD; font-family: 'Trebuchet MS', Arial, sans-serif; color: white; padding: 20px; font-size: 40px; font-weight: bold; border-radius: 0 0 0 0; box-shadow: 0px 6px 8px rgba(0, 0, 0, 0.2);\">\n",
    "  Final Project - Introduction to Data Science\n",
    "    <div style=\"text-align: center; background-color: #0A6EBD; font-family: 'Trebuchet MS', Arial, sans-serif; color: white; padding: 20px; font-size: 40px; font-weight: bold; border-radius: 0 0 0 0; box-shadow: 0px 6px 8px rgba(0, 0, 0, 0.2);\">\n",
    "    @ FIT-HCMUS, VNU-HCM 📌\n",
    "</div>"
   ]
  },
  {
   "cell_type": "markdown",
   "metadata": {},
   "source": [
    "<div style=\"text-align: center; background-color: #5A96E3; font-family: 'Trebuchet MS', Arial, sans-serif; color: white; padding: 20px; font-size: 40px; font-weight: bold; border-radius: 0 0 0 0; box-shadow: 0px 6px 8px rgba(0, 0, 0, 0.2);\">\n",
    "  Stage 0 - About project & Group introduction📌\n",
    "</div>"
   ]
  },
  {
   "cell_type": "markdown",
   "metadata": {},
   "source": [
    "# Thông tin nhóm 5 - Nhập môn Khoa học Dữ liệu - Lớp 21_21"
   ]
  },
  {
   "cell_type": "markdown",
   "metadata": {},
   "source": [
    "| **STT** | **Họ và tên** | **MSSV** |\r\n",
    "|-------|---------------|---------|\r\n",
    "| 1     | Bùi Hồng Đăng   | 21120045|\r\n",
    "| 2     | Nguyễn Tiến Nhật | 21120108|\r\n",
    "| 3     | Thái Chí Vỹ      | 21120169|\r\n",
    "| 4     | Bùi Đình Bảo     | 21120201|\r\n"
   ]
  },
  {
   "cell_type": "markdown",
   "metadata": {},
   "source": [
    "# Link workspace"
   ]
  },
  {
   "cell_type": "markdown",
   "metadata": {},
   "source": [
    "## GitHub"
   ]
  },
  {
   "cell_type": "markdown",
   "metadata": {},
   "source": [
    "https://github.com/gaizzzzz/IntroToDS_FinalProject"
   ]
  },
  {
   "cell_type": "markdown",
   "metadata": {},
   "source": [
    "## Trello"
   ]
  },
  {
   "cell_type": "markdown",
   "metadata": {},
   "source": [
    "https://trello.com/invite/21_21intro2ds_g5_finalproject/ATTIf5ca31e2c424d3bdeb02c6716fd504b126CD83D9"
   ]
  },
  {
   "cell_type": "markdown",
   "metadata": {},
   "source": [
    "# Link to crawl dataset"
   ]
  },
  {
   "cell_type": "markdown",
   "metadata": {},
   "source": [
    "https://www.themoviedb.org/movie"
   ]
  },
  {
   "cell_type": "markdown",
   "metadata": {},
   "source": [
    "Dữ liệu về phim ảnh"
   ]
  },
  {
   "cell_type": "markdown",
   "metadata": {},
   "source": [
    "# Động lực thực hiện"
   ]
  },
  {
   "cell_type": "markdown",
   "metadata": {},
   "source": []
  },
  {
   "cell_type": "markdown",
   "metadata": {},
   "source": [
    "# Kế hoạch ban đầu"
   ]
  },
  {
   "cell_type": "markdown",
   "metadata": {},
   "source": [
    "**Dự định phân chia công việc ban đầu cho pha 1:**\n",
    "- 1 người thu thập\n",
    "- 1 người tiền xử lý\n",
    "- 2 người phân tích khám phá dữ liệu"
   ]
  },
  {
   "cell_type": "markdown",
   "metadata": {},
   "source": [
    "**Dự định phân chia công việc ban đầu cho pha 2:**\n",
    "- 4 câu hỏi\n",
    "    - 2 câu hỏi hồi quy\n",
    "    - 2 câu hỏi phân lớp\n",
    "- Mỗi câu hỏi 4 mô hình"
   ]
  }
 ],
 "metadata": {
  "kernelspec": {
   "display_name": "Python 3 (ipykernel)",
   "language": "python",
   "name": "python3"
  },
  "language_info": {
   "codemirror_mode": {
    "name": "ipython",
    "version": 3
   },
   "file_extension": ".py",
   "mimetype": "text/x-python",
   "name": "python",
   "nbconvert_exporter": "python",
   "pygments_lexer": "ipython3",
   "version": "3.10.8"
  }
 },
 "nbformat": 4,
 "nbformat_minor": 4
}
