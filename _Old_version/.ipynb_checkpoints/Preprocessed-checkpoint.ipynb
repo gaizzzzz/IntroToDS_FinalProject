{
 "cells": [
  {
   "cell_type": "code",
   "execution_count": 1,
   "id": "1632de02-511b-4221-bb50-0e518dabf26f",
   "metadata": {},
   "outputs": [],
   "source": [
    "import numpy as np\n",
    "import pandas as pd"
   ]
  },
  {
   "cell_type": "code",
   "execution_count": 2,
   "id": "8ebc9495-1565-42b0-80f4-a3c4bdd6bbb8",
   "metadata": {},
   "outputs": [
    {
     "data": {
      "text/html": [
       "<div>\n",
       "<style scoped>\n",
       "    .dataframe tbody tr th:only-of-type {\n",
       "        vertical-align: middle;\n",
       "    }\n",
       "\n",
       "    .dataframe tbody tr th {\n",
       "        vertical-align: top;\n",
       "    }\n",
       "\n",
       "    .dataframe thead th {\n",
       "        text-align: right;\n",
       "    }\n",
       "</style>\n",
       "<table border=\"1\" class=\"dataframe\">\n",
       "  <thead>\n",
       "    <tr style=\"text-align: right;\">\n",
       "      <th></th>\n",
       "      <th>Name</th>\n",
       "      <th>Released year</th>\n",
       "      <th>Genre</th>\n",
       "      <th>Director</th>\n",
       "      <th>Runtime</th>\n",
       "      <th>Score</th>\n",
       "      <th>Status</th>\n",
       "      <th>Language</th>\n",
       "      <th>Budget</th>\n",
       "      <th>Revenue</th>\n",
       "    </tr>\n",
       "  </thead>\n",
       "  <tbody>\n",
       "    <tr>\n",
       "      <th>0</th>\n",
       "      <td>Fast X</td>\n",
       "      <td>2023</td>\n",
       "      <td>['Action', 'Crime', 'Thriller']</td>\n",
       "      <td>Dan Mazeau</td>\n",
       "      <td>2h 22m</td>\n",
       "      <td>72.0</td>\n",
       "      <td>Released</td>\n",
       "      <td>English</td>\n",
       "      <td>$340,000,000.00</td>\n",
       "      <td>$704,709,660.00</td>\n",
       "    </tr>\n",
       "    <tr>\n",
       "      <th>1</th>\n",
       "      <td>Trolls Band Together</td>\n",
       "      <td>2023</td>\n",
       "      <td>['Animation', 'Family', 'Music', 'Fantasy', 'C...</td>\n",
       "      <td>Thomas Dam</td>\n",
       "      <td>1h 32m</td>\n",
       "      <td>72.0</td>\n",
       "      <td>Released</td>\n",
       "      <td>English</td>\n",
       "      <td>$95,000,000.00</td>\n",
       "      <td>$173,800,000.00</td>\n",
       "    </tr>\n",
       "    <tr>\n",
       "      <th>2</th>\n",
       "      <td>Robot Apocalypse</td>\n",
       "      <td>2021</td>\n",
       "      <td>['Science Fiction', 'Action']</td>\n",
       "      <td>Marcus Friedlander</td>\n",
       "      <td>1h 27m</td>\n",
       "      <td>21.0</td>\n",
       "      <td>Released</td>\n",
       "      <td>English</td>\n",
       "      <td>-</td>\n",
       "      <td>-</td>\n",
       "    </tr>\n",
       "    <tr>\n",
       "      <th>3</th>\n",
       "      <td>Five Nights at Freddy's</td>\n",
       "      <td>2023</td>\n",
       "      <td>['Horror', 'Mystery']</td>\n",
       "      <td>Emma Tammi</td>\n",
       "      <td>1h 50m</td>\n",
       "      <td>78.0</td>\n",
       "      <td>Released</td>\n",
       "      <td>English</td>\n",
       "      <td>$20,000,000.00</td>\n",
       "      <td>$286,700,000.00</td>\n",
       "    </tr>\n",
       "    <tr>\n",
       "      <th>4</th>\n",
       "      <td>Oppenheimer</td>\n",
       "      <td>2023</td>\n",
       "      <td>['Drama', 'History']</td>\n",
       "      <td>Christopher Nolan</td>\n",
       "      <td>3h 1m</td>\n",
       "      <td>81.0</td>\n",
       "      <td>Released</td>\n",
       "      <td>English</td>\n",
       "      <td>$100,000,000.00</td>\n",
       "      <td>$951,000,000.00</td>\n",
       "    </tr>\n",
       "    <tr>\n",
       "      <th>...</th>\n",
       "      <td>...</td>\n",
       "      <td>...</td>\n",
       "      <td>...</td>\n",
       "      <td>...</td>\n",
       "      <td>...</td>\n",
       "      <td>...</td>\n",
       "      <td>...</td>\n",
       "      <td>...</td>\n",
       "      <td>...</td>\n",
       "      <td>...</td>\n",
       "    </tr>\n",
       "    <tr>\n",
       "      <th>4995</th>\n",
       "      <td>Secret in Their Eyes</td>\n",
       "      <td>2015</td>\n",
       "      <td>['Thriller', 'Mystery', 'Drama', 'Crime']</td>\n",
       "      <td>Billy Ray</td>\n",
       "      <td>1h 51m</td>\n",
       "      <td>64.0</td>\n",
       "      <td>Released</td>\n",
       "      <td>English</td>\n",
       "      <td>$19,500,000.00</td>\n",
       "      <td>$34,854,990.00</td>\n",
       "    </tr>\n",
       "    <tr>\n",
       "      <th>4996</th>\n",
       "      <td>The Vatican Tapes</td>\n",
       "      <td>2015</td>\n",
       "      <td>['Thriller', 'Horror']</td>\n",
       "      <td>Mark Neveldine</td>\n",
       "      <td>1h 31m</td>\n",
       "      <td>53.0</td>\n",
       "      <td>Released</td>\n",
       "      <td>English</td>\n",
       "      <td>$13,000,000.00</td>\n",
       "      <td>$1,784,763.00</td>\n",
       "    </tr>\n",
       "    <tr>\n",
       "      <th>4997</th>\n",
       "      <td>Song to Song</td>\n",
       "      <td>2017</td>\n",
       "      <td>['Romance', 'Drama', 'Music']</td>\n",
       "      <td>Terrence Malick</td>\n",
       "      <td>2h 9m</td>\n",
       "      <td>55.0</td>\n",
       "      <td>Released</td>\n",
       "      <td>English</td>\n",
       "      <td>$10,000,000.00</td>\n",
       "      <td>$1,710,528.00</td>\n",
       "    </tr>\n",
       "    <tr>\n",
       "      <th>4998</th>\n",
       "      <td>Divine Intervention</td>\n",
       "      <td>2023</td>\n",
       "      <td>['Comedy']</td>\n",
       "      <td>Pedro Pablo Ibarra</td>\n",
       "      <td>1h 40m</td>\n",
       "      <td>82.0</td>\n",
       "      <td>Released</td>\n",
       "      <td>Spanish; Castilian</td>\n",
       "      <td>-</td>\n",
       "      <td>-</td>\n",
       "    </tr>\n",
       "    <tr>\n",
       "      <th>4999</th>\n",
       "      <td>Armour of God</td>\n",
       "      <td>1986</td>\n",
       "      <td>['Adventure', 'Action', 'Comedy']</td>\n",
       "      <td>Jackie Chan</td>\n",
       "      <td>1h 38m</td>\n",
       "      <td>70.0</td>\n",
       "      <td>Released</td>\n",
       "      <td>Cantonese</td>\n",
       "      <td>$15,000,000.00</td>\n",
       "      <td>-</td>\n",
       "    </tr>\n",
       "  </tbody>\n",
       "</table>\n",
       "<p>5000 rows × 10 columns</p>\n",
       "</div>"
      ],
      "text/plain": [
       "                         Name  Released year  \\\n",
       "0                      Fast X           2023   \n",
       "1        Trolls Band Together           2023   \n",
       "2            Robot Apocalypse           2021   \n",
       "3     Five Nights at Freddy's           2023   \n",
       "4                 Oppenheimer           2023   \n",
       "...                       ...            ...   \n",
       "4995     Secret in Their Eyes           2015   \n",
       "4996        The Vatican Tapes           2015   \n",
       "4997             Song to Song           2017   \n",
       "4998      Divine Intervention           2023   \n",
       "4999            Armour of God           1986   \n",
       "\n",
       "                                                  Genre            Director  \\\n",
       "0                       ['Action', 'Crime', 'Thriller']          Dan Mazeau   \n",
       "1     ['Animation', 'Family', 'Music', 'Fantasy', 'C...          Thomas Dam   \n",
       "2                         ['Science Fiction', 'Action']  Marcus Friedlander   \n",
       "3                                 ['Horror', 'Mystery']          Emma Tammi   \n",
       "4                                  ['Drama', 'History']   Christopher Nolan   \n",
       "...                                                 ...                 ...   \n",
       "4995          ['Thriller', 'Mystery', 'Drama', 'Crime']           Billy Ray   \n",
       "4996                             ['Thriller', 'Horror']      Mark Neveldine   \n",
       "4997                      ['Romance', 'Drama', 'Music']     Terrence Malick   \n",
       "4998                                         ['Comedy']  Pedro Pablo Ibarra   \n",
       "4999                  ['Adventure', 'Action', 'Comedy']         Jackie Chan   \n",
       "\n",
       "     Runtime  Score    Status            Language           Budget  \\\n",
       "0     2h 22m   72.0  Released             English  $340,000,000.00   \n",
       "1     1h 32m   72.0  Released             English   $95,000,000.00   \n",
       "2     1h 27m   21.0  Released             English                -   \n",
       "3     1h 50m   78.0  Released             English   $20,000,000.00   \n",
       "4      3h 1m   81.0  Released             English  $100,000,000.00   \n",
       "...      ...    ...       ...                 ...              ...   \n",
       "4995  1h 51m   64.0  Released             English   $19,500,000.00   \n",
       "4996  1h 31m   53.0  Released             English   $13,000,000.00   \n",
       "4997   2h 9m   55.0  Released             English   $10,000,000.00   \n",
       "4998  1h 40m   82.0  Released  Spanish; Castilian                -   \n",
       "4999  1h 38m   70.0  Released           Cantonese   $15,000,000.00   \n",
       "\n",
       "              Revenue  \n",
       "0     $704,709,660.00  \n",
       "1     $173,800,000.00  \n",
       "2                   -  \n",
       "3     $286,700,000.00  \n",
       "4     $951,000,000.00  \n",
       "...               ...  \n",
       "4995   $34,854,990.00  \n",
       "4996    $1,784,763.00  \n",
       "4997    $1,710,528.00  \n",
       "4998                -  \n",
       "4999                -  \n",
       "\n",
       "[5000 rows x 10 columns]"
      ]
     },
     "execution_count": 2,
     "metadata": {},
     "output_type": "execute_result"
    }
   ],
   "source": [
    "movie_df = pd.read_csv('movie.csv')\n",
    "movie_df"
   ]
  },
  {
   "cell_type": "code",
   "execution_count": 3,
   "id": "44dc3308-b71f-4418-88a9-f15114111949",
   "metadata": {},
   "outputs": [
    {
     "data": {
      "text/plain": [
       "(5000, 10)"
      ]
     },
     "execution_count": 3,
     "metadata": {},
     "output_type": "execute_result"
    }
   ],
   "source": [
    "n_rows=movie_df.shape[0]\n",
    "n_cols=movie_df.shape[1]\n",
    "n_rows, n_cols"
   ]
  },
  {
   "cell_type": "markdown",
   "id": "150f91ae-b5e6-43b3-b5b8-8a5994b7d1b4",
   "metadata": {},
   "source": [
    "#TODO: GIVE OBSERVATION ABOUT MEANING OF EACH ROWS, COLUMNS\n",
    "\n",
    "After finding meaning of each rows, each columns in the data, we check whether data have duplicate rows"
   ]
  },
  {
   "cell_type": "code",
   "execution_count": 4,
   "id": "99bb0730-9a6d-4585-bbf7-e840acc919e7",
   "metadata": {},
   "outputs": [
    {
     "data": {
      "text/plain": [
       "0"
      ]
     },
     "execution_count": 4,
     "metadata": {},
     "output_type": "execute_result"
    }
   ],
   "source": [
    "duplicated_rows = movie_df[movie_df.duplicated()]\n",
    "len(duplicated_rows)"
   ]
  },
  {
   "cell_type": "markdown",
   "id": "85efa2fb-93a1-4821-978f-a995a1344150",
   "metadata": {},
   "source": [
    "There is no duplicate row in data. We notice that there are many missing data (NaN) in the CSV file. We need to find how many percentage of missing data there are."
   ]
  },
  {
   "cell_type": "code",
   "execution_count": 5,
   "id": "6dd38925-4a1b-4cc9-9205-5ab75c36bc99",
   "metadata": {},
   "outputs": [
    {
     "name": "stdout",
     "output_type": "stream",
     "text": [
      "<class 'pandas.core.frame.DataFrame'>\n",
      "RangeIndex: 5000 entries, 0 to 4999\n",
      "Data columns (total 10 columns):\n",
      " #   Column         Non-Null Count  Dtype  \n",
      "---  ------         --------------  -----  \n",
      " 0   Name           5000 non-null   object \n",
      " 1   Released year  5000 non-null   int64  \n",
      " 2   Genre          5000 non-null   object \n",
      " 3   Director       5000 non-null   object \n",
      " 4   Runtime        5000 non-null   object \n",
      " 5   Score          5000 non-null   float64\n",
      " 6   Status         5000 non-null   object \n",
      " 7   Language       5000 non-null   object \n",
      " 8   Budget         5000 non-null   object \n",
      " 9   Revenue        5000 non-null   object \n",
      "dtypes: float64(1), int64(1), object(8)\n",
      "memory usage: 390.8+ KB\n"
     ]
    }
   ],
   "source": [
    "movie_df.info()"
   ]
  },
  {
   "cell_type": "markdown",
   "id": "c5d8fc55-e694-485d-bee9-844c0e64e16a",
   "metadata": {},
   "source": [
    "We can see that missing value is described as '[]'or '-' in data. Now we will caculate missing percent of each column"
   ]
  },
  {
   "cell_type": "code",
   "execution_count": 6,
   "id": "729af3b8-4b4a-4556-aa47-525374dc98cc",
   "metadata": {},
   "outputs": [
    {
     "data": {
      "text/plain": [
       "Name              0.00\n",
       "Released year     0.00\n",
       "Genre             0.12\n",
       "Director          0.10\n",
       "Runtime           0.86\n",
       "Score             0.00\n",
       "Status            0.00\n",
       "Language          0.00\n",
       "Budget           34.50\n",
       "Revenue          32.30\n",
       "dtype: float64"
      ]
     },
     "execution_count": 6,
     "metadata": {},
     "output_type": "execute_result"
    }
   ],
   "source": [
    "movie_df.replace(['[]', '-',' -'], np.nan, inplace=True)\n",
    "missing_values = movie_df.isnull().sum()\n",
    "# Calculate missing ratio for each column\n",
    "missing_ratio = (missing_values / len(movie_df)) * 100\n",
    "missing_ratio"
   ]
  },
  {
   "cell_type": "markdown",
   "id": "575eb69f-354e-4878-9ff8-2881d12440e2",
   "metadata": {},
   "source": [
    "From observing data and the result, we can see that there are no columns have >50% missing values, so we don't need to drop any column"
   ]
  },
  {
   "cell_type": "markdown",
   "id": "746747db-f9c5-40b9-9681-08ab1aa2ef76",
   "metadata": {},
   "source": [
    "## CATERGORICAL COLUMNS"
   ]
  },
  {
   "cell_type": "markdown",
   "id": "0745c014-615e-4b0e-a491-d821c329e8b0",
   "metadata": {},
   "source": [
    "We can see that `Released year` is a categorical column, so we need to change it to `str` instead of `int64`"
   ]
  },
  {
   "cell_type": "code",
   "execution_count": 7,
   "id": "e1e5df7a-9fdb-40fb-833a-9c592cde8417",
   "metadata": {},
   "outputs": [
    {
     "name": "stdout",
     "output_type": "stream",
     "text": [
      "<class 'pandas.core.frame.DataFrame'>\n",
      "RangeIndex: 5000 entries, 0 to 4999\n",
      "Data columns (total 10 columns):\n",
      " #   Column         Non-Null Count  Dtype  \n",
      "---  ------         --------------  -----  \n",
      " 0   Name           5000 non-null   object \n",
      " 1   Released year  5000 non-null   object \n",
      " 2   Genre          4994 non-null   object \n",
      " 3   Director       4995 non-null   object \n",
      " 4   Runtime        4957 non-null   object \n",
      " 5   Score          5000 non-null   float64\n",
      " 6   Status         5000 non-null   object \n",
      " 7   Language       5000 non-null   object \n",
      " 8   Budget         3275 non-null   object \n",
      " 9   Revenue        3385 non-null   object \n",
      "dtypes: float64(1), object(9)\n",
      "memory usage: 390.8+ KB\n"
     ]
    }
   ],
   "source": [
    "movie_df['Released year']=movie_df['Released year'].astype('str')\n",
    "movie_df.info()"
   ]
  },
  {
   "cell_type": "markdown",
   "id": "fb239198-df59-480b-b592-7bab0d107b55",
   "metadata": {},
   "source": [
    "We need to count how many value are there in `Genre`, `Status`, `Language` "
   ]
  },
  {
   "cell_type": "code",
   "execution_count": 8,
   "id": "c6e8798d-78b3-4432-ab66-ad86c9401d66",
   "metadata": {},
   "outputs": [
    {
     "name": "stderr",
     "output_type": "stream",
     "text": [
      "C:\\Users\\HP\\AppData\\Local\\Temp\\ipykernel_4136\\3393927113.py:2: FutureWarning: The default value of regex will change from True to False in a future version. In addition, single character regular expressions will *not* be treated as literal strings when regex=True.\n",
      "  movie_df['Genre'] = movie_df['Genre'].str.replace('[', '').str.replace(']', '')\n"
     ]
    },
    {
     "data": {
      "text/html": [
       "<div>\n",
       "<style scoped>\n",
       "    .dataframe tbody tr th:only-of-type {\n",
       "        vertical-align: middle;\n",
       "    }\n",
       "\n",
       "    .dataframe tbody tr th {\n",
       "        vertical-align: top;\n",
       "    }\n",
       "\n",
       "    .dataframe thead th {\n",
       "        text-align: right;\n",
       "    }\n",
       "</style>\n",
       "<table border=\"1\" class=\"dataframe\">\n",
       "  <thead>\n",
       "    <tr style=\"text-align: right;\">\n",
       "      <th></th>\n",
       "      <th>Genre</th>\n",
       "      <th>Status</th>\n",
       "      <th>Language</th>\n",
       "    </tr>\n",
       "  </thead>\n",
       "  <tbody>\n",
       "    <tr>\n",
       "      <th>num_diff_vals</th>\n",
       "      <td>19</td>\n",
       "      <td>3</td>\n",
       "      <td>46</td>\n",
       "    </tr>\n",
       "    <tr>\n",
       "      <th>distribution</th>\n",
       "      <td>{''Drama'': 1691, ''Action'': 1637, ''Comedy''...</td>\n",
       "      <td>{'Released': 4988, 'Post Production': 7, 'In P...</td>\n",
       "      <td>{'English': 4052, 'Japanese': 308, 'Spanish': ...</td>\n",
       "    </tr>\n",
       "  </tbody>\n",
       "</table>\n",
       "</div>"
      ],
      "text/plain": [
       "                                                           Genre  \\\n",
       "num_diff_vals                                                 19   \n",
       "distribution   {''Drama'': 1691, ''Action'': 1637, ''Comedy''...   \n",
       "\n",
       "                                                          Status  \\\n",
       "num_diff_vals                                                  3   \n",
       "distribution   {'Released': 4988, 'Post Production': 7, 'In P...   \n",
       "\n",
       "                                                        Language  \n",
       "num_diff_vals                                                 46  \n",
       "distribution   {'English': 4052, 'Japanese': 308, 'Spanish': ...  "
      ]
     },
     "execution_count": 8,
     "metadata": {},
     "output_type": "execute_result"
    }
   ],
   "source": [
    "selected_cols_profile={}\n",
    "movie_df['Genre'] = movie_df['Genre'].str.replace('[', '').str.replace(']', '')\n",
    "count_genre = movie_df['Genre'].str.split(', ').explode().value_counts().to_dict()\n",
    "count_status = movie_df['Status'].value_counts().to_dict()\n",
    "count_language = movie_df['Language'].str.split('; ').explode().value_counts().to_dict()\n",
    "selected_cols_profile['Genre'] = {\"num_diff_vals\": len(count_genre), \"distribution\": count_genre}\n",
    "selected_cols_profile['Status'] = {\"num_diff_vals\": len(count_status), \"distribution\": count_status}\n",
    "selected_cols_profile['Language'] = {\"num_diff_vals\": len(count_language), \"distribution\": count_language}\n",
    "selected_cols_profile=pd.DataFrame(data=selected_cols_profile,index=[\"num_diff_vals\", \"distribution\"])\n",
    "selected_cols_profile"
   ]
  },
  {
   "cell_type": "markdown",
   "id": "9065f699-9d23-4938-affc-a54bbcde4897",
   "metadata": {},
   "source": [
    "Value of these columns seem normal"
   ]
  },
  {
   "cell_type": "markdown",
   "id": "2a84e7f1-9821-47db-bb4e-7f0c30b9d1b2",
   "metadata": {},
   "source": [
    "## NUMERIC COLUMNS"
   ]
  },
  {
   "cell_type": "code",
   "execution_count": 9,
   "id": "6b7f5f50-b75b-4d06-9daf-c7272cfab4b2",
   "metadata": {},
   "outputs": [],
   "source": [
    "def convert_runtime_to_float(runtime):\n",
    "    try:\n",
    "        # Split hours and minutes\n",
    "        hours, minutes = map(int, runtime.replace('h', '').replace('m', '').split())\n",
    "        return hours + round(minutes / 60,2)\n",
    "    except:\n",
    "        return None\n",
    "\n",
    "# Apply the conversion function to the 'Runtime' column\n",
    "movie_df['Runtime'] = movie_df['Runtime'].apply(convert_runtime_to_float)\n",
    "movie_df.rename(columns={'Runtime': 'Runtime (h)'}, inplace=True)"
   ]
  },
  {
   "cell_type": "markdown",
   "id": "685849de-6cf9-40ce-91a0-ebb5f2164571",
   "metadata": {},
   "source": [
    "Convert numeric columns `Budget` and `Revenue` from `object` to `float64`"
   ]
  },
  {
   "cell_type": "code",
   "execution_count": 11,
   "id": "624f563e-8a37-4a28-9b92-71f38a8089b0",
   "metadata": {},
   "outputs": [],
   "source": [
    "movie_df['Budget'] = movie_df['Budget'].replace('[\\$,]', '', regex=True).astype(float)\n",
    "movie_df['Revenue'] = movie_df['Revenue'].replace('[\\$,]', '', regex=True).astype(float)\n",
    "\n",
    "movie_df.rename(columns={'Budget': 'Budget ($)'}, inplace=True)\n",
    "movie_df.rename(columns={'Revenue': 'Revenue ($)'}, inplace=True)"
   ]
  },
  {
   "cell_type": "code",
   "execution_count": 12,
   "id": "21be2687-1248-49dc-ad83-2d54001af085",
   "metadata": {},
   "outputs": [
    {
     "name": "stdout",
     "output_type": "stream",
     "text": [
      "<class 'pandas.core.frame.DataFrame'>\n",
      "RangeIndex: 5000 entries, 0 to 4999\n",
      "Data columns (total 10 columns):\n",
      " #   Column         Non-Null Count  Dtype  \n",
      "---  ------         --------------  -----  \n",
      " 0   Name           5000 non-null   object \n",
      " 1   Released year  5000 non-null   object \n",
      " 2   Genre          4994 non-null   object \n",
      " 3   Director       4995 non-null   object \n",
      " 4   Runtime (h)    4729 non-null   float64\n",
      " 5   Score          5000 non-null   float64\n",
      " 6   Status         5000 non-null   object \n",
      " 7   Language       5000 non-null   object \n",
      " 8   Budget ($)     3275 non-null   float64\n",
      " 9   Revenue ($)    3385 non-null   float64\n",
      "dtypes: float64(4), object(6)\n",
      "memory usage: 390.8+ KB\n"
     ]
    }
   ],
   "source": [
    "movie_df.info()"
   ]
  },
  {
   "cell_type": "markdown",
   "id": "de4677db-ec60-4082-8a85-28cf17347a60",
   "metadata": {},
   "source": [
    "### Caculate quantile of numeric cols"
   ]
  },
  {
   "cell_type": "code",
   "execution_count": 14,
   "id": "85615ff8-5be9-4246-ae4e-7b3bc4e590f5",
   "metadata": {},
   "outputs": [
    {
     "data": {
      "text/html": [
       "<div>\n",
       "<style scoped>\n",
       "    .dataframe tbody tr th:only-of-type {\n",
       "        vertical-align: middle;\n",
       "    }\n",
       "\n",
       "    .dataframe tbody tr th {\n",
       "        vertical-align: top;\n",
       "    }\n",
       "\n",
       "    .dataframe thead th {\n",
       "        text-align: right;\n",
       "    }\n",
       "</style>\n",
       "<table border=\"1\" class=\"dataframe\">\n",
       "  <thead>\n",
       "    <tr style=\"text-align: right;\">\n",
       "      <th></th>\n",
       "      <th>Runtime (h)</th>\n",
       "      <th>Score</th>\n",
       "      <th>Budget ($)</th>\n",
       "      <th>Revenue ($)</th>\n",
       "    </tr>\n",
       "  </thead>\n",
       "  <tbody>\n",
       "    <tr>\n",
       "      <th>min</th>\n",
       "      <td>1.02</td>\n",
       "      <td>0.0</td>\n",
       "      <td>1.0</td>\n",
       "      <td>1.000000e+00</td>\n",
       "    </tr>\n",
       "    <tr>\n",
       "      <th>25%</th>\n",
       "      <td>1.55</td>\n",
       "      <td>61.0</td>\n",
       "      <td>10739200.0</td>\n",
       "      <td>2.150298e+07</td>\n",
       "    </tr>\n",
       "    <tr>\n",
       "      <th>50%</th>\n",
       "      <td>1.73</td>\n",
       "      <td>67.0</td>\n",
       "      <td>30000000.0</td>\n",
       "      <td>7.585062e+07</td>\n",
       "    </tr>\n",
       "    <tr>\n",
       "      <th>75%</th>\n",
       "      <td>1.97</td>\n",
       "      <td>73.0</td>\n",
       "      <td>65000000.0</td>\n",
       "      <td>1.868000e+08</td>\n",
       "    </tr>\n",
       "    <tr>\n",
       "      <th>max</th>\n",
       "      <td>5.55</td>\n",
       "      <td>100.0</td>\n",
       "      <td>460000000.0</td>\n",
       "      <td>2.923706e+09</td>\n",
       "    </tr>\n",
       "  </tbody>\n",
       "</table>\n",
       "</div>"
      ],
      "text/plain": [
       "     Runtime (h)  Score   Budget ($)   Revenue ($)\n",
       "min         1.02    0.0          1.0  1.000000e+00\n",
       "25%         1.55   61.0   10739200.0  2.150298e+07\n",
       "50%         1.73   67.0   30000000.0  7.585062e+07\n",
       "75%         1.97   73.0   65000000.0  1.868000e+08\n",
       "max         5.55  100.0  460000000.0  2.923706e+09"
      ]
     },
     "execution_count": 14,
     "metadata": {},
     "output_type": "execute_result"
    }
   ],
   "source": [
    "numeric_cols=['Runtime (h)','Score','Budget ($)','Revenue ($)']\n",
    "numeric_col_profile = movie_df[numeric_cols].quantile([0, 0.25, 0.5, 0.75, 1])\n",
    "numeric_col_profile.index = ['min', '25%', '50%', '75%', 'max']\n",
    "numeric_col_profile"
   ]
  },
  {
   "cell_type": "code",
   "execution_count": 15,
   "id": "aefdb9c8-9bda-47ff-bb01-c609558399c3",
   "metadata": {},
   "outputs": [
    {
     "data": {
      "text/html": [
       "<div>\n",
       "<style scoped>\n",
       "    .dataframe tbody tr th:only-of-type {\n",
       "        vertical-align: middle;\n",
       "    }\n",
       "\n",
       "    .dataframe tbody tr th {\n",
       "        vertical-align: top;\n",
       "    }\n",
       "\n",
       "    .dataframe thead th {\n",
       "        text-align: right;\n",
       "    }\n",
       "</style>\n",
       "<table border=\"1\" class=\"dataframe\">\n",
       "  <thead>\n",
       "    <tr style=\"text-align: right;\">\n",
       "      <th></th>\n",
       "      <th>Name</th>\n",
       "      <th>Released year</th>\n",
       "      <th>Genre</th>\n",
       "      <th>Director</th>\n",
       "      <th>Runtime (h)</th>\n",
       "      <th>Score</th>\n",
       "      <th>Status</th>\n",
       "      <th>Language</th>\n",
       "      <th>Budget ($)</th>\n",
       "      <th>Revenue ($)</th>\n",
       "    </tr>\n",
       "  </thead>\n",
       "  <tbody>\n",
       "    <tr>\n",
       "      <th>3065</th>\n",
       "      <td>Down</td>\n",
       "      <td>2019</td>\n",
       "      <td>'Horror', 'Drama', 'Thriller'</td>\n",
       "      <td>Daniel Stamm</td>\n",
       "      <td>1.37</td>\n",
       "      <td>68.0</td>\n",
       "      <td>Released</td>\n",
       "      <td>English</td>\n",
       "      <td>1.0</td>\n",
       "      <td>NaN</td>\n",
       "    </tr>\n",
       "    <tr>\n",
       "      <th>3511</th>\n",
       "      <td>All About Lily Chou-Chou</td>\n",
       "      <td>2001</td>\n",
       "      <td>'Drama', 'Crime'</td>\n",
       "      <td>Shunji Iwai</td>\n",
       "      <td>2.43</td>\n",
       "      <td>73.0</td>\n",
       "      <td>Released</td>\n",
       "      <td>Japanese</td>\n",
       "      <td>1.0</td>\n",
       "      <td>NaN</td>\n",
       "    </tr>\n",
       "  </tbody>\n",
       "</table>\n",
       "</div>"
      ],
      "text/plain": [
       "                          Name Released year                          Genre  \\\n",
       "3065                      Down          2019  'Horror', 'Drama', 'Thriller'   \n",
       "3511  All About Lily Chou-Chou          2001               'Drama', 'Crime'   \n",
       "\n",
       "          Director  Runtime (h)  Score    Status  Language  Budget ($)  \\\n",
       "3065  Daniel Stamm         1.37   68.0  Released   English         1.0   \n",
       "3511   Shunji Iwai         2.43   73.0  Released  Japanese         1.0   \n",
       "\n",
       "      Revenue ($)  \n",
       "3065          NaN  \n",
       "3511          NaN  "
      ]
     },
     "execution_count": 15,
     "metadata": {},
     "output_type": "execute_result"
    }
   ],
   "source": [
    "movie_df[movie_df['Budget ($)']==1] ## check thử cho vui"
   ]
  },
  {
   "cell_type": "code",
   "execution_count": null,
   "id": "1b5a2bd2-f5da-406c-a82d-a3421fc19cf6",
   "metadata": {},
   "outputs": [],
   "source": []
  }
 ],
 "metadata": {
  "kernelspec": {
   "display_name": "Python 3 (ipykernel)",
   "language": "python",
   "name": "python3"
  },
  "language_info": {
   "codemirror_mode": {
    "name": "ipython",
    "version": 3
   },
   "file_extension": ".py",
   "mimetype": "text/x-python",
   "name": "python",
   "nbconvert_exporter": "python",
   "pygments_lexer": "ipython3",
   "version": "3.10.9"
  }
 },
 "nbformat": 4,
 "nbformat_minor": 5
}
